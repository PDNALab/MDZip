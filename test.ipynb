{
 "cells": [
  {
   "cell_type": "code",
   "execution_count": 1,
   "metadata": {},
   "outputs": [],
   "source": [
    "import warnings\n",
    "warnings.filterwarnings(\"ignore\")\n",
    "\n",
    "import torch\n",
    "from torch.utils.data import Dataset, DataLoader\n",
    "import pytorch_lightning as pl\n",
    "import pickle\n",
    "import numpy\n",
    "import argparse\n",
    "import os\n",
    "import platform\n",
    "import shutil\n",
    "from tqdm import tqdm\n",
    "import matplotlib.pyplot as plt\n",
    "\n",
    "from molzip.utils import *\n",
    "from molzip.autoencoder import *\n",
    "from molzip.molzip import *\n",
    "# import mdshare"
   ]
  },
  {
   "cell_type": "code",
   "execution_count": 2,
   "metadata": {},
   "outputs": [],
   "source": [
    "pdb = 'pentapeptide-impl-solv.pdb'\n",
    "traj = 'pentapeptide-00-500ns-impl-solv.xtc'"
   ]
  },
  {
   "cell_type": "code",
   "execution_count": null,
   "metadata": {},
   "outputs": [
    {
     "name": "stdout",
     "output_type": "stream",
     "text": [
      "Device name: NVIDIA GeForce GTX 1060 3GB\n",
      "\n",
      "Trajectory stats : #_Frames = 5001\t#_Atoms = 94\n",
      "______________________________________________________________________ \n",
      "\n",
      "Start reading coordinates from trajectory to train model...\n",
      "[500 frames with stride 10]\n"
     ]
    },
    {
     "name": "stderr",
     "output_type": "stream",
     "text": [
      "Loading trajectory:   0.00% |                    |"
     ]
    },
    {
     "name": "stdout",
     "output_type": "stream",
     "text": [
      "______________________________________________________________________\n",
      "\n"
     ]
    },
    {
     "name": "stderr",
     "output_type": "stream",
     "text": [
      "\n",
      "GPU available: True (cuda), used: True\n",
      "TPU available: False, using: 0 TPU cores\n",
      "HPU available: False, using: 0 HPUs\n",
      "LOCAL_RANK: 0 - CUDA_VISIBLE_DEVICES: [0]\n"
     ]
    },
    {
     "name": "stdout",
     "output_type": "stream",
     "text": [
      "Training Deep Convolutional AutoEncoder model\n"
     ]
    },
    {
     "name": "stderr",
     "output_type": "stream",
     "text": [
      "\n",
      "  | Name    | Type | Params | Mode \n",
      "-----------------------------------------\n",
      "0 | model   | AE   | 27.3 M | train\n",
      "1 | loss_fn | Loss | 0      | train\n",
      "-----------------------------------------\n",
      "27.3 M    Trainable params\n",
      "0         Non-trainable params\n",
      "27.3 M    Total params\n",
      "109.169   Total estimated model params size (MB)\n",
      "34        Modules in train mode\n",
      "0         Modules in eval mode\n"
     ]
    },
    {
     "data": {
      "application/vnd.jupyter.widget-view+json": {
       "model_id": "47028be8c08644f9869a692e92219928",
       "version_major": 2,
       "version_minor": 0
      },
      "text/plain": [
       "Training: |          | 0/? [00:00<?, ?it/s]"
      ]
     },
     "metadata": {},
     "output_type": "display_data"
    }
   ],
   "source": [
    "train(traj=traj, top=pdb, stride=10, fname='pep', epochs=5, w=0, batchSize=10)"
   ]
  },
  {
   "cell_type": "code",
   "execution_count": 5,
   "metadata": {},
   "outputs": [
    {
     "name": "stdout",
     "output_type": "stream",
     "text": [
      "Angles shape: torch.Size([2, 24])\n",
      "Angles: tensor([[0.4671, 0.7845, 0.3874, 0.7974, 0.7042, 0.8973, 2.2871, 1.6530, 0.3874,\n",
      "         0.8678, 0.7042, 1.4257, 2.2871, 1.4469, 0.4671, 0.8481, 0.8973, 1.4257,\n",
      "         1.6530, 1.4469, 0.7845, 0.8481, 0.7974, 0.8678],\n",
      "        [2.0368, 1.8393, 0.1662, 0.7129, 0.2178, 2.2282, 0.9386, 1.0844, 0.1662,\n",
      "         0.8355, 0.2178, 2.0572, 0.9386, 0.2005, 2.0368, 0.2488, 2.2282, 2.0572,\n",
      "         1.0844, 0.2005, 1.8393, 0.2488, 0.7129, 0.8355]])\n"
     ]
    }
   ],
   "source": [
    "import torch\n",
    "\n",
    "def compute_angles(tensor):\n",
    "    num_atoms = tensor.shape[2]\n",
    "    angles = []\n",
    "\n",
    "    for i in range(num_atoms):\n",
    "        for j in range(num_atoms):\n",
    "            for k in range(num_atoms):\n",
    "                if i != j and j != k and i != k:\n",
    "                    # vectors\n",
    "                    ba = tensor[:, 0, j, :] - tensor[:, 0, i, :]\n",
    "                    bc = tensor[:, 0, j, :] - tensor[:, 0, k, :]\n",
    "                    \n",
    "                    ba_norm = torch.norm(ba, dim=-1, keepdim=True)\n",
    "                    bc_norm = torch.norm(bc, dim=-1, keepdim=True)\n",
    "\n",
    "                    cosine_angle = torch.sum(ba * bc, dim=-1, keepdim=True) / (ba_norm * bc_norm)\n",
    "                    \n",
    "                    angle = torch.acos(torch.clamp(cosine_angle, -1.0, 1.0))\n",
    "\n",
    "                    angles.append(angle)\n",
    "\n",
    "    return torch.cat(angles, dim=1)\n",
    "\n",
    "# Example usage:\n",
    "batch_size = 2\n",
    "num_atoms = 4\n",
    "coords = torch.rand((batch_size, 1, num_atoms, 3))\n",
    "\n",
    "angles = compute_angles(coords)\n",
    "print(\"Angles shape:\", angles.shape)\n",
    "print(\"Angles:\", angles)"
   ]
  },
  {
   "cell_type": "code",
   "execution_count": 6,
   "metadata": {},
   "outputs": [],
   "source": [
    "def compute_angles(tensor):\n",
    "    batch_size, _, num_atoms, _ = tensor.shape\n",
    "    \n",
    "    all_indices = torch.arange(num_atoms).to(tensor.device)\n",
    "    i, j, k = torch.meshgrid(all_indices, all_indices, all_indices, indexing='ij')\n",
    "    \n",
    "    # Remove self-referential (i == j == k) and redundant combinations\n",
    "    mask = (i != j) & (j != k) & (i != k)\n",
    "    i, j, k = i[mask], j[mask], k[mask]\n",
    "    \n",
    "    a = tensor[:, 0, i, :]\n",
    "    b = tensor[:, 0, j, :]\n",
    "    c = tensor[:, 0, k, :]\n",
    "    \n",
    "    ba = b - a\n",
    "    bc = b - c\n",
    "    \n",
    "    ba_norm = torch.linalg.norm(ba, dim=-1, keepdim=True)\n",
    "    bc_norm = torch.linalg.norm(bc, dim=-1, keepdim=True)\n",
    "    \n",
    "    ba_normalized = ba / ba_norm\n",
    "    bc_normalized = bc / bc_norm\n",
    "    \n",
    "    cos_angles = torch.sum(ba_normalized * bc_normalized, dim=-1)\n",
    "    angles = torch.acos(torch.clamp(cos_angles, -1.0, 1.0))\n",
    "    \n",
    "    return angles"
   ]
  },
  {
   "cell_type": "code",
   "execution_count": 7,
   "metadata": {},
   "outputs": [
    {
     "name": "stdout",
     "output_type": "stream",
     "text": [
      "Angles shape: torch.Size([2, 24])\n",
      "Angles: tensor([[0.4671, 0.7845, 0.3874, 0.7974, 0.7042, 0.8973, 2.2871, 1.6530, 0.3874,\n",
      "         0.8678, 0.7042, 1.4257, 2.2871, 1.4469, 0.4671, 0.8481, 0.8973, 1.4257,\n",
      "         1.6530, 1.4469, 0.7845, 0.8481, 0.7974, 0.8678],\n",
      "        [2.0368, 1.8393, 0.1662, 0.7129, 0.2178, 2.2282, 0.9386, 1.0844, 0.1662,\n",
      "         0.8355, 0.2178, 2.0572, 0.9386, 0.2005, 2.0368, 0.2488, 2.2282, 2.0572,\n",
      "         1.0844, 0.2005, 1.8393, 0.2488, 0.7129, 0.8355]])\n"
     ]
    }
   ],
   "source": [
    "angles = compute_angles(coords)\n",
    "print(\"Angles shape:\", angles.shape)\n",
    "print(\"Angles:\", angles)"
   ]
  },
  {
   "cell_type": "code",
   "execution_count": null,
   "metadata": {},
   "outputs": [],
   "source": [
    "model = torch.load('pep_compressed/pep_model.pt').to('cuda')"
   ]
  },
  {
   "cell_type": "code",
   "execution_count": 13,
   "metadata": {},
   "outputs": [
    {
     "data": {
      "text/plain": [
       "'/home/nami/MolZip/pep_compressed/pep_losses.dat'"
      ]
     },
     "execution_count": 13,
     "metadata": {},
     "output_type": "execute_result"
    }
   ],
   "source": [
    "model.loss_path"
   ]
  },
  {
   "cell_type": "code",
   "execution_count": 15,
   "metadata": {},
   "outputs": [
    {
     "data": {
      "text/plain": [
       "1.0"
      ]
     },
     "execution_count": 15,
     "metadata": {},
     "output_type": "execute_result"
    }
   ],
   "source": [
    "model.w"
   ]
  },
  {
   "cell_type": "code",
   "execution_count": 8,
   "metadata": {},
   "outputs": [
    {
     "data": {
      "text/plain": [
       "torch.Size([2, 1, 4, 3])"
      ]
     },
     "execution_count": 8,
     "metadata": {},
     "output_type": "execute_result"
    }
   ],
   "source": [
    "coords.shape"
   ]
  },
  {
   "cell_type": "code",
   "execution_count": null,
   "metadata": {},
   "outputs": [],
   "source": []
  }
 ],
 "metadata": {
  "kernelspec": {
   "display_name": "comp",
   "language": "python",
   "name": "python3"
  },
  "language_info": {
   "codemirror_mode": {
    "name": "ipython",
    "version": 3
   },
   "file_extension": ".py",
   "mimetype": "text/x-python",
   "name": "python",
   "nbconvert_exporter": "python",
   "pygments_lexer": "ipython3",
   "version": "3.12.2"
  }
 },
 "nbformat": 4,
 "nbformat_minor": 2
}
