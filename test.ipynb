{
 "cells": [
  {
   "cell_type": "code",
   "execution_count": 1,
   "metadata": {},
   "outputs": [],
   "source": [
    "import warnings\n",
    "warnings.filterwarnings(\"ignore\")\n",
    "\n",
    "import torch\n",
    "from torch.utils.data import Dataset, DataLoader\n",
    "import pytorch_lightning as pl\n",
    "import pickle\n",
    "import numpy\n",
    "import argparse\n",
    "import os\n",
    "import platform\n",
    "import shutil\n",
    "from tqdm import tqdm\n",
    "\n",
    "from molzip.utils import *\n",
    "from molzip.autoencoder import *\n",
    "\n",
    "# import mdshare"
   ]
  },
  {
   "cell_type": "code",
   "execution_count": 2,
   "metadata": {},
   "outputs": [],
   "source": [
    "pdb = 'pentapeptide-impl-solv.pdb'\n",
    "traj = 'pentapeptide-00-500ns-impl-solv.xtc'\n",
    "traj = md.load_xtc(traj, top=pdb)\n",
    "traj = traj.superpose(reference=traj[0]).xyz"
   ]
  },
  {
   "cell_type": "code",
   "execution_count": 15,
   "metadata": {},
   "outputs": [],
   "source": [
    "clusts = cluster_trajectory(traj, n_components=2, n_clusters=3)"
   ]
  },
  {
   "cell_type": "code",
   "execution_count": null,
   "metadata": {},
   "outputs": [],
   "source": []
  }
 ],
 "metadata": {
  "kernelspec": {
   "display_name": "comp",
   "language": "python",
   "name": "python3"
  },
  "language_info": {
   "codemirror_mode": {
    "name": "ipython",
    "version": 3
   },
   "file_extension": ".py",
   "mimetype": "text/x-python",
   "name": "python",
   "nbconvert_exporter": "python",
   "pygments_lexer": "ipython3",
   "version": "3.12.2"
  }
 },
 "nbformat": 4,
 "nbformat_minor": 2
}
