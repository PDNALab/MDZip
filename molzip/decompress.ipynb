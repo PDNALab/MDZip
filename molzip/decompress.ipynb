{
 "cells": [
  {
   "cell_type": "code",
   "execution_count": 1,
   "id": "8f5a39b6-efa1-4b41-9006-58680f8c6df7",
   "metadata": {},
   "outputs": [],
   "source": [
    "import warnings\n",
    "warnings.filterwarnings(\"ignore\")\n",
    "\n",
    "import torch\n",
    "from torch.utils.data import Dataset, DataLoader\n",
    "import pytorch_lightning as pl\n",
    "import pickle\n",
    "import numpy\n",
    "import argparse\n",
    "import os\n",
    "\n",
    "from utils import *\n",
    "from autoencoder import *\n",
    "\n",
    "torch.set_float32_matmul_precision('medium')"
   ]
  },
  {
   "cell_type": "code",
   "execution_count": 2,
   "id": "bbf7df47-47e2-4d52-b177-b0315b01697b",
   "metadata": {},
   "outputs": [],
   "source": [
    "top = md.load_prmtop('/orange/alberto.perezant/t.desilva/insulin/water/no_water_aligned/system.parm7')\n",
    "comp = '_compressed.pkl'\n",
    "model = 'model.pt'"
   ]
  },
  {
   "cell_type": "code",
   "execution_count": 3,
   "id": "03d2b37f-c99b-47c9-ad0f-6a07ac983dab",
   "metadata": {},
   "outputs": [
    {
     "name": "stdout",
     "output_type": "stream",
     "text": [
      "Device name: NVIDIA A100-SXM4-80GB\n"
     ]
    }
   ],
   "source": [
    "# Define device ---------\n",
    "if torch.cuda.is_available():\n",
    "    device = torch.device('cuda')\n",
    "    print('Device name:', torch.cuda.get_device_name(device))\n",
    "else:\n",
    "    device = torch.device('cpu')\n",
    "    print('Device name: CPU')"
   ]
  },
  {
   "cell_type": "code",
   "execution_count": 4,
   "id": "fd1ba00a-5b7a-40e4-8ffb-3407e8acc6cf",
   "metadata": {},
   "outputs": [],
   "source": [
    "decoder = torch.load(model).to(device).model.decoder\n",
    "comp = torch.concatenate(pickle.load(open(comp, 'rb')))"
   ]
  },
  {
   "cell_type": "code",
   "execution_count": 5,
   "id": "39f229e6-0f9f-48c0-8ae9-85225666f0cd",
   "metadata": {},
   "outputs": [],
   "source": [
    "# with torch.no_grad():\n",
    "#     decoder.eval()\n",
    "#     np_traj = decoder(comp).detach().cpu().numpy()\n",
    "#     np_traj = np_traj.reshape(-1,np_traj.shape[2],3)"
   ]
  },
  {
   "cell_type": "code",
   "execution_count": 6,
   "id": "76ea1c8c-68ab-4400-94c5-d9a0df7285ba",
   "metadata": {},
   "outputs": [],
   "source": [
    "# # md.Trajectory(numpy_traj, topology).save_xtc('output_trajectory.xtc')\n",
    "# md.Trajectory(np_traj, top).save_netcdf('output_trajectory.nc')"
   ]
  },
  {
   "cell_type": "code",
   "execution_count": 25,
   "id": "625043b1-78f1-4dc1-8b2e-ee10f60bd291",
   "metadata": {},
   "outputs": [],
   "source": [
    "with torch.no_grad():\n",
    "    decoder.eval()\n",
    "    # Open the NetCDF file for writing in append mode\n",
    "    with md.formats.netcdf.NetCDFTrajectoryFile('output_trajectory.nc', 'w') as f:\n",
    "        for i in range(len(comp)):  # Iterate over your input data\n",
    "            np_traj_frame = decoder(comp[i].reshape(1,-1)).detach().cpu().numpy()\n",
    "            np_traj_frame = np_traj_frame.reshape(-1, np_traj_frame.shape[2], 3)\n",
    "            \n",
    "            f.write(np_traj_frame)  # Write single frame"
   ]
  },
  {
   "cell_type": "code",
   "execution_count": null,
   "id": "34933be2-802d-45f4-b16d-98dff9a29b1f",
   "metadata": {},
   "outputs": [],
   "source": []
  }
 ],
 "metadata": {
  "kernelspec": {
   "display_name": "Python 3 (ipykernel)",
   "language": "python",
   "name": "python3"
  },
  "language_info": {
   "codemirror_mode": {
    "name": "ipython",
    "version": 3
   },
   "file_extension": ".py",
   "mimetype": "text/x-python",
   "name": "python",
   "nbconvert_exporter": "python",
   "pygments_lexer": "ipython3",
   "version": "3.12.8"
  }
 },
 "nbformat": 4,
 "nbformat_minor": 5
}
