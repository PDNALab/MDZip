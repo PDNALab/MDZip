{
 "cells": [
  {
   "cell_type": "code",
   "execution_count": 17,
   "id": "836b09b8-86b5-4808-961f-948db08c09a8",
   "metadata": {},
   "outputs": [],
   "source": [
    "import torch\n",
    "import torch.nn as nn\n",
    "from torch.utils.data import Dataset, DataLoader\n",
    "import pytorch_lightning as pl\n",
    "import pickle\n",
    "\n",
    "import numpy as np\n",
    "import matplotlib.pyplot as plt\n",
    "\n",
    "from utils import *\n",
    "from autoencoder import *"
   ]
  },
  {
   "cell_type": "code",
   "execution_count": 2,
   "id": "d8133bbe-8300-4e9c-b148-294ac8dac780",
   "metadata": {},
   "outputs": [
    {
     "data": {
      "text/plain": [
       "'\\nWhen taking inputs first check sanity and warn user.\\nex: check file paths and output path (if output exists give warning before overwrite)\\n'"
      ]
     },
     "execution_count": 2,
     "metadata": {},
     "output_type": "execute_result"
    }
   ],
   "source": [
    "'''\n",
    "When taking inputs first check sanity and warn user.\n",
    "ex: check file paths and output path (if output exists give warning before overwrite)\n",
    "'''"
   ]
  },
  {
   "cell_type": "code",
   "execution_count": 3,
   "id": "376565e3-0bfb-4933-b0de-919f00cc9306",
   "metadata": {},
   "outputs": [
    {
     "name": "stdout",
     "output_type": "stream",
     "text": [
      "Device name: NVIDIA A100-SXM4-80GB \n",
      "\n"
     ]
    }
   ],
   "source": [
    "device = 'cuda' if torch.cuda.is_available() else 'cpu'\n",
    "print('Device name:', torch.cuda.get_device_name(), '\\n')"
   ]
  },
  {
   "cell_type": "code",
   "execution_count": 6,
   "id": "6c81350a-ad4e-4d95-b610-80ac7544cc88",
   "metadata": {},
   "outputs": [
    {
     "name": "stdout",
     "output_type": "stream",
     "text": [
      "\n",
      "Trajectory stats : #_Frames = 100000\t#_Atoms = 202\n",
      "______________________________________________________________________ \n",
      "\n",
      "Start reading coordinates from trajectory to train model...\n",
      "[1000 frames with stride 100]\n"
     ]
    },
    {
     "name": "stderr",
     "output_type": "stream",
     "text": [
      "\n",
      "oading trajectory: 100.00% |████████████████████|"
     ]
    }
   ],
   "source": [
    "traj = read_traj(\n",
    "    traj_ = '/orange/alberto.perezant/t.desilva/insulin/water/no_water_aligned/md_water.nc', \n",
    "    top_ = '/orange/alberto.perezant/t.desilva/insulin/water/no_water_aligned/system.parm7',\n",
    "    stride = 100,\n",
    "    memmap=False\n",
    ")\n",
    "n_atoms = traj.shape[2]\n",
    "traj_dl = DataLoader(traj, batch_size=128, shuffle=True, drop_last=True, num_workers=4)"
   ]
  },
  {
   "cell_type": "code",
   "execution_count": 7,
   "id": "23f12fce-ffa8-477e-9782-80b2b59f60ea",
   "metadata": {},
   "outputs": [],
   "source": [
    "model = AE(n_atoms=n_atoms)\n",
    "model = LightAE(model=model, lr=1e-4, weight_decay=0)"
   ]
  },
  {
   "cell_type": "code",
   "execution_count": 8,
   "id": "a1917709-5dce-4875-9edb-ef38f0052627",
   "metadata": {},
   "outputs": [
    {
     "name": "stdout",
     "output_type": "stream",
     "text": [
      "Training Autoencoder:\n"
     ]
    },
    {
     "name": "stderr",
     "output_type": "stream",
     "text": [
      "GPU available: True (cuda), used: True\n",
      "TPU available: False, using: 0 TPU cores\n",
      "HPU available: False, using: 0 HPUs\n",
      "/blue/alberto.perezant/t.desilva/conda/envs/compress/lib/python3.12/site-packages/pytorch_lightning/callbacks/model_checkpoint.py:654: Checkpoint directory /blue/alberto.perezant/t.desilva/Compress/compress/lightning_logs/version_54847558/checkpoints exists and is not empty.\n",
      "LOCAL_RANK: 0 - CUDA_VISIBLE_DEVICES: [4]\n",
      "\n",
      "  | Name    | Type     | Params | Mode \n",
      "---------------------------------------------\n",
      "0 | model   | AE       | 28.2 M | train\n",
      "1 | loss_fn | RMSELoss | 0      | train\n",
      "---------------------------------------------\n",
      "28.2 M    Trainable params\n",
      "0         Non-trainable params\n",
      "28.2 M    Total params\n",
      "112.708   Total estimated model params size (MB)\n",
      "33        Modules in train mode\n",
      "0         Modules in eval mode\n",
      "SLURM auto-requeueing enabled. Setting signal handlers.\n",
      "/blue/alberto.perezant/t.desilva/conda/envs/compress/lib/python3.12/site-packages/pytorch_lightning/loops/fit_loop.py:298: The number of training batches (7) is smaller than the logging interval Trainer(log_every_n_steps=50). Set a lower value for log_every_n_steps if you want to see logs for the training epoch.\n"
     ]
    },
    {
     "data": {
      "application/vnd.jupyter.widget-view+json": {
       "model_id": "44e1a7b8532d432689e64e7f07320410",
       "version_major": 2,
       "version_minor": 0
      },
      "text/plain": [
       "Training: |          | 0/? [00:00<?, ?it/s]"
      ]
     },
     "metadata": {},
     "output_type": "display_data"
    },
    {
     "name": "stderr",
     "output_type": "stream",
     "text": [
      "`Trainer.fit` stopped: `max_epochs=100` reached.\n"
     ]
    },
    {
     "name": "stdout",
     "output_type": "stream",
     "text": [
      "Autoencoder training complete\n",
      "\n",
      "______________________________________________________________________ \n",
      "\n"
     ]
    }
   ],
   "source": [
    "print('Training Autoencoder:')\n",
    "torch.set_float32_matmul_precision('medium')\n",
    "trainer = pl.Trainer(max_epochs=100, accelerator='gpu', devices=1)\n",
    "trainer.fit(model, traj_dl)"
   ]
  },
  {
   "cell_type": "code",
   "execution_count": 52,
   "id": "114e3e55-02b2-4455-99ff-3f2ef893b9f6",
   "metadata": {},
   "outputs": [
    {
     "name": "stderr",
     "output_type": "stream",
     "text": [
      "/blue/alberto.perezant/t.desilva/conda/envs/compress/lib/python3.12/site-packages/torch/utils/data/dataloader.py:617: UserWarning: This DataLoader will create 4 worker processes in total. Our suggested max number of worker in current system is 1, which is smaller than what this DataLoader is going to create. Please be aware that excessive worker creation might get DataLoader running slow or even freeze, lower the worker number to avoid potential slowness/freeze if necessary.\n",
      "  warnings.warn(\n",
      "\n",
      "alculating RMSD :   0.00% |                     |"
     ]
    },
    {
     "ename": "RuntimeError",
     "evalue": "Input type (torch.FloatTensor) and weight type (torch.cuda.FloatTensor) should be the same or input should be a MKLDNN tensor and weight is a dense tensor",
     "output_type": "error",
     "traceback": [
      "\u001b[0;31m---------------------------------------------------------------------------\u001b[0m",
      "\u001b[0;31mRuntimeError\u001b[0m                              Traceback (most recent call last)",
      "Cell \u001b[0;32mIn[52], line 9\u001b[0m\n\u001b[1;32m      6\u001b[0m ax[\u001b[38;5;241m0\u001b[39m]\u001b[38;5;241m.\u001b[39mset_ylabel(\u001b[38;5;124m'\u001b[39m\u001b[38;5;124mRMSE $(nm)$\u001b[39m\u001b[38;5;124m'\u001b[39m, fontsize\u001b[38;5;241m=\u001b[39m\u001b[38;5;241m14\u001b[39m, fontfamily\u001b[38;5;241m=\u001b[39m\u001b[38;5;124m'\u001b[39m\u001b[38;5;124mserif\u001b[39m\u001b[38;5;124m'\u001b[39m)\n\u001b[1;32m      8\u001b[0m ax[\u001b[38;5;241m1\u001b[39m]\u001b[38;5;241m.\u001b[39mtick_params(axis\u001b[38;5;241m=\u001b[39m\u001b[38;5;124m'\u001b[39m\u001b[38;5;124mboth\u001b[39m\u001b[38;5;124m'\u001b[39m, which\u001b[38;5;241m=\u001b[39m\u001b[38;5;124m'\u001b[39m\u001b[38;5;124mmajor\u001b[39m\u001b[38;5;124m'\u001b[39m, labelsize\u001b[38;5;241m=\u001b[39m\u001b[38;5;241m12\u001b[39m, labelfontfamily\u001b[38;5;241m=\u001b[39m\u001b[38;5;124m'\u001b[39m\u001b[38;5;124mmonospace\u001b[39m\u001b[38;5;124m'\u001b[39m)\n\u001b[0;32m----> 9\u001b[0m x \u001b[38;5;241m=\u001b[39m \u001b[43mrmsd_\u001b[49m\u001b[43m(\u001b[49m\u001b[43mmodel\u001b[49m\u001b[38;5;241;43m=\u001b[39;49m\u001b[43mmodel\u001b[49m\u001b[43m,\u001b[49m\u001b[43m \u001b[49m\u001b[43mdl\u001b[49m\u001b[38;5;241;43m=\u001b[39;49m\u001b[43mtraj_dl\u001b[49m\u001b[43m,\u001b[49m\u001b[43m \u001b[49m\n\u001b[1;32m     10\u001b[0m \u001b[43m                    \u001b[49m\u001b[43mtop\u001b[49m\u001b[43m \u001b[49m\u001b[38;5;241;43m=\u001b[39;49m\u001b[43m \u001b[49m\u001b[38;5;124;43m'\u001b[39;49m\u001b[38;5;124;43m/orange/alberto.perezant/t.desilva/insulin/water/no_water_aligned/system.parm7\u001b[39;49m\u001b[38;5;124;43m'\u001b[39;49m\u001b[43m)\u001b[49m\u001b[38;5;241m*\u001b[39m\u001b[38;5;241m10\u001b[39m\n\u001b[1;32m     11\u001b[0m bins \u001b[38;5;241m=\u001b[39m \u001b[38;5;241m100\u001b[39m\n\u001b[1;32m     12\u001b[0m ax[\u001b[38;5;241m1\u001b[39m]\u001b[38;5;241m.\u001b[39mhist(x, bins\u001b[38;5;241m=\u001b[39mbins)\n",
      "File \u001b[0;32m/blue/alberto.perezant/t.desilva/Compress/compress/utils.py:67\u001b[0m, in \u001b[0;36mrmsd_\u001b[0;34m(model, dl, top, heavy_atoms)\u001b[0m\n\u001b[1;32m     65\u001b[0m \u001b[38;5;28;01mwith\u001b[39;00m torch\u001b[38;5;241m.\u001b[39mno_grad():\n\u001b[1;32m     66\u001b[0m     \u001b[38;5;28;01mfor\u001b[39;00m batch \u001b[38;5;129;01min\u001b[39;00m tqdm(dl, bar_format\u001b[38;5;241m=\u001b[39m\u001b[38;5;124m'\u001b[39m\u001b[38;5;124mcalculating RMSD : \u001b[39m\u001b[38;5;132;01m{percentage:6.2f}\u001b[39;00m\u001b[38;5;124m%\u001b[39m\u001b[38;5;124m |\u001b[39m\u001b[38;5;132;01m{bar}\u001b[39;00m\u001b[38;5;124m|\u001b[39m\u001b[38;5;124m'\u001b[39m, ncols\u001b[38;5;241m=\u001b[39m\u001b[38;5;241m50\u001b[39m):\n\u001b[0;32m---> 67\u001b[0m         pred_ \u001b[38;5;241m=\u001b[39m \u001b[43mmodel\u001b[49m\u001b[43m(\u001b[49m\u001b[43mbatch\u001b[49m\u001b[43m)\u001b[49m\n\u001b[1;32m     68\u001b[0m         \u001b[38;5;28;01mfor\u001b[39;00m y, y_ \u001b[38;5;129;01min\u001b[39;00m \u001b[38;5;28mzip\u001b[39m(batch, pred_):\n\u001b[1;32m     69\u001b[0m             traj1 \u001b[38;5;241m=\u001b[39m md\u001b[38;5;241m.\u001b[39mTrajectory(y\u001b[38;5;241m.\u001b[39mdetach()\u001b[38;5;241m.\u001b[39mcpu()\u001b[38;5;241m.\u001b[39mnumpy()\u001b[38;5;241m.\u001b[39mreshape(\u001b[38;5;241m-\u001b[39m\u001b[38;5;241m1\u001b[39m,\u001b[38;5;241m3\u001b[39m), top)\n",
      "File \u001b[0;32m/blue/alberto.perezant/t.desilva/conda/envs/compress/lib/python3.12/site-packages/torch/nn/modules/module.py:1736\u001b[0m, in \u001b[0;36mModule._wrapped_call_impl\u001b[0;34m(self, *args, **kwargs)\u001b[0m\n\u001b[1;32m   1734\u001b[0m     \u001b[38;5;28;01mreturn\u001b[39;00m \u001b[38;5;28mself\u001b[39m\u001b[38;5;241m.\u001b[39m_compiled_call_impl(\u001b[38;5;241m*\u001b[39margs, \u001b[38;5;241m*\u001b[39m\u001b[38;5;241m*\u001b[39mkwargs)  \u001b[38;5;66;03m# type: ignore[misc]\u001b[39;00m\n\u001b[1;32m   1735\u001b[0m \u001b[38;5;28;01melse\u001b[39;00m:\n\u001b[0;32m-> 1736\u001b[0m     \u001b[38;5;28;01mreturn\u001b[39;00m \u001b[38;5;28;43mself\u001b[39;49m\u001b[38;5;241;43m.\u001b[39;49m\u001b[43m_call_impl\u001b[49m\u001b[43m(\u001b[49m\u001b[38;5;241;43m*\u001b[39;49m\u001b[43margs\u001b[49m\u001b[43m,\u001b[49m\u001b[43m \u001b[49m\u001b[38;5;241;43m*\u001b[39;49m\u001b[38;5;241;43m*\u001b[39;49m\u001b[43mkwargs\u001b[49m\u001b[43m)\u001b[49m\n",
      "File \u001b[0;32m/blue/alberto.perezant/t.desilva/conda/envs/compress/lib/python3.12/site-packages/torch/nn/modules/module.py:1747\u001b[0m, in \u001b[0;36mModule._call_impl\u001b[0;34m(self, *args, **kwargs)\u001b[0m\n\u001b[1;32m   1742\u001b[0m \u001b[38;5;66;03m# If we don't have any hooks, we want to skip the rest of the logic in\u001b[39;00m\n\u001b[1;32m   1743\u001b[0m \u001b[38;5;66;03m# this function, and just call forward.\u001b[39;00m\n\u001b[1;32m   1744\u001b[0m \u001b[38;5;28;01mif\u001b[39;00m \u001b[38;5;129;01mnot\u001b[39;00m (\u001b[38;5;28mself\u001b[39m\u001b[38;5;241m.\u001b[39m_backward_hooks \u001b[38;5;129;01mor\u001b[39;00m \u001b[38;5;28mself\u001b[39m\u001b[38;5;241m.\u001b[39m_backward_pre_hooks \u001b[38;5;129;01mor\u001b[39;00m \u001b[38;5;28mself\u001b[39m\u001b[38;5;241m.\u001b[39m_forward_hooks \u001b[38;5;129;01mor\u001b[39;00m \u001b[38;5;28mself\u001b[39m\u001b[38;5;241m.\u001b[39m_forward_pre_hooks\n\u001b[1;32m   1745\u001b[0m         \u001b[38;5;129;01mor\u001b[39;00m _global_backward_pre_hooks \u001b[38;5;129;01mor\u001b[39;00m _global_backward_hooks\n\u001b[1;32m   1746\u001b[0m         \u001b[38;5;129;01mor\u001b[39;00m _global_forward_hooks \u001b[38;5;129;01mor\u001b[39;00m _global_forward_pre_hooks):\n\u001b[0;32m-> 1747\u001b[0m     \u001b[38;5;28;01mreturn\u001b[39;00m \u001b[43mforward_call\u001b[49m\u001b[43m(\u001b[49m\u001b[38;5;241;43m*\u001b[39;49m\u001b[43margs\u001b[49m\u001b[43m,\u001b[49m\u001b[43m \u001b[49m\u001b[38;5;241;43m*\u001b[39;49m\u001b[38;5;241;43m*\u001b[39;49m\u001b[43mkwargs\u001b[49m\u001b[43m)\u001b[49m\n\u001b[1;32m   1749\u001b[0m result \u001b[38;5;241m=\u001b[39m \u001b[38;5;28;01mNone\u001b[39;00m\n\u001b[1;32m   1750\u001b[0m called_always_called_hooks \u001b[38;5;241m=\u001b[39m \u001b[38;5;28mset\u001b[39m()\n",
      "File \u001b[0;32m/blue/alberto.perezant/t.desilva/Compress/compress/autoencoder.py:104\u001b[0m, in \u001b[0;36mLightAE.forward\u001b[0;34m(self, x)\u001b[0m\n\u001b[1;32m    103\u001b[0m \u001b[38;5;28;01mdef\u001b[39;00m \u001b[38;5;21mforward\u001b[39m(\u001b[38;5;28mself\u001b[39m, x):\n\u001b[0;32m--> 104\u001b[0m     \u001b[38;5;28;01mreturn\u001b[39;00m \u001b[38;5;28;43mself\u001b[39;49m\u001b[38;5;241;43m.\u001b[39;49m\u001b[43mmodel\u001b[49m\u001b[43m(\u001b[49m\u001b[43mx\u001b[49m\u001b[43m)\u001b[49m\n",
      "File \u001b[0;32m/blue/alberto.perezant/t.desilva/conda/envs/compress/lib/python3.12/site-packages/torch/nn/modules/module.py:1736\u001b[0m, in \u001b[0;36mModule._wrapped_call_impl\u001b[0;34m(self, *args, **kwargs)\u001b[0m\n\u001b[1;32m   1734\u001b[0m     \u001b[38;5;28;01mreturn\u001b[39;00m \u001b[38;5;28mself\u001b[39m\u001b[38;5;241m.\u001b[39m_compiled_call_impl(\u001b[38;5;241m*\u001b[39margs, \u001b[38;5;241m*\u001b[39m\u001b[38;5;241m*\u001b[39mkwargs)  \u001b[38;5;66;03m# type: ignore[misc]\u001b[39;00m\n\u001b[1;32m   1735\u001b[0m \u001b[38;5;28;01melse\u001b[39;00m:\n\u001b[0;32m-> 1736\u001b[0m     \u001b[38;5;28;01mreturn\u001b[39;00m \u001b[38;5;28;43mself\u001b[39;49m\u001b[38;5;241;43m.\u001b[39;49m\u001b[43m_call_impl\u001b[49m\u001b[43m(\u001b[49m\u001b[38;5;241;43m*\u001b[39;49m\u001b[43margs\u001b[49m\u001b[43m,\u001b[49m\u001b[43m \u001b[49m\u001b[38;5;241;43m*\u001b[39;49m\u001b[38;5;241;43m*\u001b[39;49m\u001b[43mkwargs\u001b[49m\u001b[43m)\u001b[49m\n",
      "File \u001b[0;32m/blue/alberto.perezant/t.desilva/conda/envs/compress/lib/python3.12/site-packages/torch/nn/modules/module.py:1747\u001b[0m, in \u001b[0;36mModule._call_impl\u001b[0;34m(self, *args, **kwargs)\u001b[0m\n\u001b[1;32m   1742\u001b[0m \u001b[38;5;66;03m# If we don't have any hooks, we want to skip the rest of the logic in\u001b[39;00m\n\u001b[1;32m   1743\u001b[0m \u001b[38;5;66;03m# this function, and just call forward.\u001b[39;00m\n\u001b[1;32m   1744\u001b[0m \u001b[38;5;28;01mif\u001b[39;00m \u001b[38;5;129;01mnot\u001b[39;00m (\u001b[38;5;28mself\u001b[39m\u001b[38;5;241m.\u001b[39m_backward_hooks \u001b[38;5;129;01mor\u001b[39;00m \u001b[38;5;28mself\u001b[39m\u001b[38;5;241m.\u001b[39m_backward_pre_hooks \u001b[38;5;129;01mor\u001b[39;00m \u001b[38;5;28mself\u001b[39m\u001b[38;5;241m.\u001b[39m_forward_hooks \u001b[38;5;129;01mor\u001b[39;00m \u001b[38;5;28mself\u001b[39m\u001b[38;5;241m.\u001b[39m_forward_pre_hooks\n\u001b[1;32m   1745\u001b[0m         \u001b[38;5;129;01mor\u001b[39;00m _global_backward_pre_hooks \u001b[38;5;129;01mor\u001b[39;00m _global_backward_hooks\n\u001b[1;32m   1746\u001b[0m         \u001b[38;5;129;01mor\u001b[39;00m _global_forward_hooks \u001b[38;5;129;01mor\u001b[39;00m _global_forward_pre_hooks):\n\u001b[0;32m-> 1747\u001b[0m     \u001b[38;5;28;01mreturn\u001b[39;00m \u001b[43mforward_call\u001b[49m\u001b[43m(\u001b[49m\u001b[38;5;241;43m*\u001b[39;49m\u001b[43margs\u001b[49m\u001b[43m,\u001b[49m\u001b[43m \u001b[49m\u001b[38;5;241;43m*\u001b[39;49m\u001b[38;5;241;43m*\u001b[39;49m\u001b[43mkwargs\u001b[49m\u001b[43m)\u001b[49m\n\u001b[1;32m   1749\u001b[0m result \u001b[38;5;241m=\u001b[39m \u001b[38;5;28;01mNone\u001b[39;00m\n\u001b[1;32m   1750\u001b[0m called_always_called_hooks \u001b[38;5;241m=\u001b[39m \u001b[38;5;28mset\u001b[39m()\n",
      "File \u001b[0;32m/blue/alberto.perezant/t.desilva/Compress/compress/autoencoder.py:79\u001b[0m, in \u001b[0;36mAE.forward\u001b[0;34m(self, x)\u001b[0m\n\u001b[1;32m     78\u001b[0m \u001b[38;5;28;01mdef\u001b[39;00m \u001b[38;5;21mforward\u001b[39m(\u001b[38;5;28mself\u001b[39m, x):\n\u001b[0;32m---> 79\u001b[0m     encoded \u001b[38;5;241m=\u001b[39m \u001b[38;5;28;43mself\u001b[39;49m\u001b[38;5;241;43m.\u001b[39;49m\u001b[43mencoder\u001b[49m\u001b[43m(\u001b[49m\u001b[43mx\u001b[49m\u001b[43m)\u001b[49m\n\u001b[1;32m     80\u001b[0m     decoded \u001b[38;5;241m=\u001b[39m \u001b[38;5;28mself\u001b[39m\u001b[38;5;241m.\u001b[39mdecoder(encoded)\n\u001b[1;32m     81\u001b[0m     \u001b[38;5;28;01mreturn\u001b[39;00m decoded\n",
      "File \u001b[0;32m/blue/alberto.perezant/t.desilva/conda/envs/compress/lib/python3.12/site-packages/torch/nn/modules/module.py:1736\u001b[0m, in \u001b[0;36mModule._wrapped_call_impl\u001b[0;34m(self, *args, **kwargs)\u001b[0m\n\u001b[1;32m   1734\u001b[0m     \u001b[38;5;28;01mreturn\u001b[39;00m \u001b[38;5;28mself\u001b[39m\u001b[38;5;241m.\u001b[39m_compiled_call_impl(\u001b[38;5;241m*\u001b[39margs, \u001b[38;5;241m*\u001b[39m\u001b[38;5;241m*\u001b[39mkwargs)  \u001b[38;5;66;03m# type: ignore[misc]\u001b[39;00m\n\u001b[1;32m   1735\u001b[0m \u001b[38;5;28;01melse\u001b[39;00m:\n\u001b[0;32m-> 1736\u001b[0m     \u001b[38;5;28;01mreturn\u001b[39;00m \u001b[38;5;28;43mself\u001b[39;49m\u001b[38;5;241;43m.\u001b[39;49m\u001b[43m_call_impl\u001b[49m\u001b[43m(\u001b[49m\u001b[38;5;241;43m*\u001b[39;49m\u001b[43margs\u001b[49m\u001b[43m,\u001b[49m\u001b[43m \u001b[49m\u001b[38;5;241;43m*\u001b[39;49m\u001b[38;5;241;43m*\u001b[39;49m\u001b[43mkwargs\u001b[49m\u001b[43m)\u001b[49m\n",
      "File \u001b[0;32m/blue/alberto.perezant/t.desilva/conda/envs/compress/lib/python3.12/site-packages/torch/nn/modules/module.py:1747\u001b[0m, in \u001b[0;36mModule._call_impl\u001b[0;34m(self, *args, **kwargs)\u001b[0m\n\u001b[1;32m   1742\u001b[0m \u001b[38;5;66;03m# If we don't have any hooks, we want to skip the rest of the logic in\u001b[39;00m\n\u001b[1;32m   1743\u001b[0m \u001b[38;5;66;03m# this function, and just call forward.\u001b[39;00m\n\u001b[1;32m   1744\u001b[0m \u001b[38;5;28;01mif\u001b[39;00m \u001b[38;5;129;01mnot\u001b[39;00m (\u001b[38;5;28mself\u001b[39m\u001b[38;5;241m.\u001b[39m_backward_hooks \u001b[38;5;129;01mor\u001b[39;00m \u001b[38;5;28mself\u001b[39m\u001b[38;5;241m.\u001b[39m_backward_pre_hooks \u001b[38;5;129;01mor\u001b[39;00m \u001b[38;5;28mself\u001b[39m\u001b[38;5;241m.\u001b[39m_forward_hooks \u001b[38;5;129;01mor\u001b[39;00m \u001b[38;5;28mself\u001b[39m\u001b[38;5;241m.\u001b[39m_forward_pre_hooks\n\u001b[1;32m   1745\u001b[0m         \u001b[38;5;129;01mor\u001b[39;00m _global_backward_pre_hooks \u001b[38;5;129;01mor\u001b[39;00m _global_backward_hooks\n\u001b[1;32m   1746\u001b[0m         \u001b[38;5;129;01mor\u001b[39;00m _global_forward_hooks \u001b[38;5;129;01mor\u001b[39;00m _global_forward_pre_hooks):\n\u001b[0;32m-> 1747\u001b[0m     \u001b[38;5;28;01mreturn\u001b[39;00m \u001b[43mforward_call\u001b[49m\u001b[43m(\u001b[49m\u001b[38;5;241;43m*\u001b[39;49m\u001b[43margs\u001b[49m\u001b[43m,\u001b[49m\u001b[43m \u001b[49m\u001b[38;5;241;43m*\u001b[39;49m\u001b[38;5;241;43m*\u001b[39;49m\u001b[43mkwargs\u001b[49m\u001b[43m)\u001b[49m\n\u001b[1;32m   1749\u001b[0m result \u001b[38;5;241m=\u001b[39m \u001b[38;5;28;01mNone\u001b[39;00m\n\u001b[1;32m   1750\u001b[0m called_always_called_hooks \u001b[38;5;241m=\u001b[39m \u001b[38;5;28mset\u001b[39m()\n",
      "File \u001b[0;32m/blue/alberto.perezant/t.desilva/conda/envs/compress/lib/python3.12/site-packages/torch/nn/modules/container.py:250\u001b[0m, in \u001b[0;36mSequential.forward\u001b[0;34m(self, input)\u001b[0m\n\u001b[1;32m    248\u001b[0m \u001b[38;5;28;01mdef\u001b[39;00m \u001b[38;5;21mforward\u001b[39m(\u001b[38;5;28mself\u001b[39m, \u001b[38;5;28minput\u001b[39m):\n\u001b[1;32m    249\u001b[0m     \u001b[38;5;28;01mfor\u001b[39;00m module \u001b[38;5;129;01min\u001b[39;00m \u001b[38;5;28mself\u001b[39m:\n\u001b[0;32m--> 250\u001b[0m         \u001b[38;5;28minput\u001b[39m \u001b[38;5;241m=\u001b[39m \u001b[43mmodule\u001b[49m\u001b[43m(\u001b[49m\u001b[38;5;28;43minput\u001b[39;49m\u001b[43m)\u001b[49m\n\u001b[1;32m    251\u001b[0m     \u001b[38;5;28;01mreturn\u001b[39;00m \u001b[38;5;28minput\u001b[39m\n",
      "File \u001b[0;32m/blue/alberto.perezant/t.desilva/conda/envs/compress/lib/python3.12/site-packages/torch/nn/modules/module.py:1736\u001b[0m, in \u001b[0;36mModule._wrapped_call_impl\u001b[0;34m(self, *args, **kwargs)\u001b[0m\n\u001b[1;32m   1734\u001b[0m     \u001b[38;5;28;01mreturn\u001b[39;00m \u001b[38;5;28mself\u001b[39m\u001b[38;5;241m.\u001b[39m_compiled_call_impl(\u001b[38;5;241m*\u001b[39margs, \u001b[38;5;241m*\u001b[39m\u001b[38;5;241m*\u001b[39mkwargs)  \u001b[38;5;66;03m# type: ignore[misc]\u001b[39;00m\n\u001b[1;32m   1735\u001b[0m \u001b[38;5;28;01melse\u001b[39;00m:\n\u001b[0;32m-> 1736\u001b[0m     \u001b[38;5;28;01mreturn\u001b[39;00m \u001b[38;5;28;43mself\u001b[39;49m\u001b[38;5;241;43m.\u001b[39;49m\u001b[43m_call_impl\u001b[49m\u001b[43m(\u001b[49m\u001b[38;5;241;43m*\u001b[39;49m\u001b[43margs\u001b[49m\u001b[43m,\u001b[49m\u001b[43m \u001b[49m\u001b[38;5;241;43m*\u001b[39;49m\u001b[38;5;241;43m*\u001b[39;49m\u001b[43mkwargs\u001b[49m\u001b[43m)\u001b[49m\n",
      "File \u001b[0;32m/blue/alberto.perezant/t.desilva/conda/envs/compress/lib/python3.12/site-packages/torch/nn/modules/module.py:1747\u001b[0m, in \u001b[0;36mModule._call_impl\u001b[0;34m(self, *args, **kwargs)\u001b[0m\n\u001b[1;32m   1742\u001b[0m \u001b[38;5;66;03m# If we don't have any hooks, we want to skip the rest of the logic in\u001b[39;00m\n\u001b[1;32m   1743\u001b[0m \u001b[38;5;66;03m# this function, and just call forward.\u001b[39;00m\n\u001b[1;32m   1744\u001b[0m \u001b[38;5;28;01mif\u001b[39;00m \u001b[38;5;129;01mnot\u001b[39;00m (\u001b[38;5;28mself\u001b[39m\u001b[38;5;241m.\u001b[39m_backward_hooks \u001b[38;5;129;01mor\u001b[39;00m \u001b[38;5;28mself\u001b[39m\u001b[38;5;241m.\u001b[39m_backward_pre_hooks \u001b[38;5;129;01mor\u001b[39;00m \u001b[38;5;28mself\u001b[39m\u001b[38;5;241m.\u001b[39m_forward_hooks \u001b[38;5;129;01mor\u001b[39;00m \u001b[38;5;28mself\u001b[39m\u001b[38;5;241m.\u001b[39m_forward_pre_hooks\n\u001b[1;32m   1745\u001b[0m         \u001b[38;5;129;01mor\u001b[39;00m _global_backward_pre_hooks \u001b[38;5;129;01mor\u001b[39;00m _global_backward_hooks\n\u001b[1;32m   1746\u001b[0m         \u001b[38;5;129;01mor\u001b[39;00m _global_forward_hooks \u001b[38;5;129;01mor\u001b[39;00m _global_forward_pre_hooks):\n\u001b[0;32m-> 1747\u001b[0m     \u001b[38;5;28;01mreturn\u001b[39;00m \u001b[43mforward_call\u001b[49m\u001b[43m(\u001b[49m\u001b[38;5;241;43m*\u001b[39;49m\u001b[43margs\u001b[49m\u001b[43m,\u001b[49m\u001b[43m \u001b[49m\u001b[38;5;241;43m*\u001b[39;49m\u001b[38;5;241;43m*\u001b[39;49m\u001b[43mkwargs\u001b[49m\u001b[43m)\u001b[49m\n\u001b[1;32m   1749\u001b[0m result \u001b[38;5;241m=\u001b[39m \u001b[38;5;28;01mNone\u001b[39;00m\n\u001b[1;32m   1750\u001b[0m called_always_called_hooks \u001b[38;5;241m=\u001b[39m \u001b[38;5;28mset\u001b[39m()\n",
      "File \u001b[0;32m/blue/alberto.perezant/t.desilva/conda/envs/compress/lib/python3.12/site-packages/torch/nn/modules/conv.py:554\u001b[0m, in \u001b[0;36mConv2d.forward\u001b[0;34m(self, input)\u001b[0m\n\u001b[1;32m    553\u001b[0m \u001b[38;5;28;01mdef\u001b[39;00m \u001b[38;5;21mforward\u001b[39m(\u001b[38;5;28mself\u001b[39m, \u001b[38;5;28minput\u001b[39m: Tensor) \u001b[38;5;241m-\u001b[39m\u001b[38;5;241m>\u001b[39m Tensor:\n\u001b[0;32m--> 554\u001b[0m     \u001b[38;5;28;01mreturn\u001b[39;00m \u001b[38;5;28;43mself\u001b[39;49m\u001b[38;5;241;43m.\u001b[39;49m\u001b[43m_conv_forward\u001b[49m\u001b[43m(\u001b[49m\u001b[38;5;28;43minput\u001b[39;49m\u001b[43m,\u001b[49m\u001b[43m \u001b[49m\u001b[38;5;28;43mself\u001b[39;49m\u001b[38;5;241;43m.\u001b[39;49m\u001b[43mweight\u001b[49m\u001b[43m,\u001b[49m\u001b[43m \u001b[49m\u001b[38;5;28;43mself\u001b[39;49m\u001b[38;5;241;43m.\u001b[39;49m\u001b[43mbias\u001b[49m\u001b[43m)\u001b[49m\n",
      "File \u001b[0;32m/blue/alberto.perezant/t.desilva/conda/envs/compress/lib/python3.12/site-packages/torch/nn/modules/conv.py:549\u001b[0m, in \u001b[0;36mConv2d._conv_forward\u001b[0;34m(self, input, weight, bias)\u001b[0m\n\u001b[1;32m    537\u001b[0m \u001b[38;5;28;01mif\u001b[39;00m \u001b[38;5;28mself\u001b[39m\u001b[38;5;241m.\u001b[39mpadding_mode \u001b[38;5;241m!=\u001b[39m \u001b[38;5;124m\"\u001b[39m\u001b[38;5;124mzeros\u001b[39m\u001b[38;5;124m\"\u001b[39m:\n\u001b[1;32m    538\u001b[0m     \u001b[38;5;28;01mreturn\u001b[39;00m F\u001b[38;5;241m.\u001b[39mconv2d(\n\u001b[1;32m    539\u001b[0m         F\u001b[38;5;241m.\u001b[39mpad(\n\u001b[1;32m    540\u001b[0m             \u001b[38;5;28minput\u001b[39m, \u001b[38;5;28mself\u001b[39m\u001b[38;5;241m.\u001b[39m_reversed_padding_repeated_twice, mode\u001b[38;5;241m=\u001b[39m\u001b[38;5;28mself\u001b[39m\u001b[38;5;241m.\u001b[39mpadding_mode\n\u001b[0;32m   (...)\u001b[0m\n\u001b[1;32m    547\u001b[0m         \u001b[38;5;28mself\u001b[39m\u001b[38;5;241m.\u001b[39mgroups,\n\u001b[1;32m    548\u001b[0m     )\n\u001b[0;32m--> 549\u001b[0m \u001b[38;5;28;01mreturn\u001b[39;00m \u001b[43mF\u001b[49m\u001b[38;5;241;43m.\u001b[39;49m\u001b[43mconv2d\u001b[49m\u001b[43m(\u001b[49m\n\u001b[1;32m    550\u001b[0m \u001b[43m    \u001b[49m\u001b[38;5;28;43minput\u001b[39;49m\u001b[43m,\u001b[49m\u001b[43m \u001b[49m\u001b[43mweight\u001b[49m\u001b[43m,\u001b[49m\u001b[43m \u001b[49m\u001b[43mbias\u001b[49m\u001b[43m,\u001b[49m\u001b[43m \u001b[49m\u001b[38;5;28;43mself\u001b[39;49m\u001b[38;5;241;43m.\u001b[39;49m\u001b[43mstride\u001b[49m\u001b[43m,\u001b[49m\u001b[43m \u001b[49m\u001b[38;5;28;43mself\u001b[39;49m\u001b[38;5;241;43m.\u001b[39;49m\u001b[43mpadding\u001b[49m\u001b[43m,\u001b[49m\u001b[43m \u001b[49m\u001b[38;5;28;43mself\u001b[39;49m\u001b[38;5;241;43m.\u001b[39;49m\u001b[43mdilation\u001b[49m\u001b[43m,\u001b[49m\u001b[43m \u001b[49m\u001b[38;5;28;43mself\u001b[39;49m\u001b[38;5;241;43m.\u001b[39;49m\u001b[43mgroups\u001b[49m\n\u001b[1;32m    551\u001b[0m \u001b[43m\u001b[49m\u001b[43m)\u001b[49m\n",
      "\u001b[0;31mRuntimeError\u001b[0m: Input type (torch.FloatTensor) and weight type (torch.cuda.FloatTensor) should be the same or input should be a MKLDNN tensor and weight is a dense tensor"
     ]
    },
    {
     "data": {
      "image/png": "[encoded data removed]",
      "text/plain": [
       "<Figure size 1000x400 with 2 Axes>"
      ]
     },
     "metadata": {},
     "output_type": "display_data"
    }
   ],
   "source": [
    "fig, ax = plt.subplots(figsize=(10,4), ncols=2)\n",
    "\n",
    "ax[0].tick_params(axis='both', which='major', labelsize=12, labelfontfamily='monospace')\n",
    "ax[0].plot(model.epoch_losses, color='red')\n",
    "ax[0].set_xlabel('epoch', fontsize=14, fontfamily='serif')\n",
    "ax[0].set_ylabel('RMSE $(nm)$', fontsize=14, fontfamily='serif')\n",
    "\n",
    "ax[1].tick_params(axis='both', which='major', labelsize=12, labelfontfamily='monospace')\n",
    "x = rmsd_(model=model, dl=traj_dl, \n",
    "                    top = '/orange/alberto.perezant/t.desilva/insulin/water/no_water_aligned/system.parm7')*10\n",
    "bins = 100\n",
    "ax[1].hist(x, bins=bins)\n",
    "\n",
    "hist, bin_edges = np.histogram(x, bins=bins)\n",
    "med = approx_median(hist=hist, bin_edges=bin_edges)\n",
    "\n",
    "ax[1].set_xlabel(r'RMSD $(\\AA)$', fontsize=14, fontfamily='serif')\n",
    "ax[1].set_ylabel('Density', fontsize=14, fontfamily='serif')\n",
    "ax[1].text(0.58, 0.95, f'AVG: {np.mean(x):.3f}\\nSTD: {np.std(x):.3f}\\nMED: {med[0]:.3f}\\u00B1{med[1]:.3f}', transform=ax[1].transAxes, fontsize=12,\n",
    "               verticalalignment='top', bbox=dict(boxstyle='round', facecolor='wheat', alpha=0.5))\n",
    "ax[1].axvline(x=np.mean(x), color='grey', linestyle='--', label='Vertical line at x=7')\n",
    "#give average value and the standard deviation\n",
    "\n",
    "plt.tight_layout()\n",
    "plt.show()"
   ]
  },
  {
   "cell_type": "code",
   "execution_count": null,
   "id": "9bdb80f1-de38-4c1d-b00c-fdd3a0feddee",
   "metadata": {},
   "outputs": [],
   "source": [
    "# are there ways to get correlation coefficient for 3d data? -- get it to validate model"
   ]
  },
  {
   "cell_type": "code",
   "execution_count": 10,
   "id": "99ddd54b-b10d-4fd7-96c7-763b47fcaa59",
   "metadata": {},
   "outputs": [
    {
     "name": "stderr",
     "output_type": "stream",
     "text": [
      "\n",
      "alculating Fit-Metrics : 100.00% |██████████████|"
     ]
    },
    {
     "data": {
      "text/plain": [
       "0.9917280077934265"
      ]
     },
     "execution_count": 10,
     "metadata": {},
     "output_type": "execute_result"
    }
   ],
   "source": [
    "FitMetrics(model=model, dl=traj_dl, \n",
    "                    top = '/orange/alberto.perezant/t.desilva/insulin/water/no_water_aligned/system.parm7')[0]"
   ]
  },
  {
   "cell_type": "code",
   "execution_count": 11,
   "id": "47c0d3d2-d494-4bc5-b8df-b085943768a9",
   "metadata": {},
   "outputs": [
    {
     "name": "stdout",
     "output_type": "stream",
     "text": [
      "Saving model parmeters\n"
     ]
    }
   ],
   "source": [
    "print('Saving model parmeters')\n",
    "torch.save(model, 'model.pt')"
   ]
  },
  {
   "cell_type": "code",
   "execution_count": 23,
   "id": "aadd14bb-ff85-4a22-8014-1556efba68e3",
   "metadata": {},
   "outputs": [
    {
     "name": "stdout",
     "output_type": "stream",
     "text": [
      "Initiate compression\n"
     ]
    },
    {
     "name": "stderr",
     "output_type": "stream",
     "text": [
      "compressing : 100%|██████████| 8/8 [00:02<00:00,  3.98it/s]"
     ]
    },
    {
     "name": "stdout",
     "output_type": "stream",
     "text": [
      "\n",
      "______________________________________________________________________\n"
     ]
    },
    {
     "name": "stderr",
     "output_type": "stream",
     "text": [
      "\n"
     ]
    }
   ],
   "source": [
    "print('\\nInitiate compression')\n",
    "encoder = model.model.encoder.to(device)\n",
    "traj_dl = DataLoader(traj, batch_size=128, shuffle=False, drop_last=False, num_workers=4)\n",
    "# del model\n",
    "z = [] # Latent\n",
    "with torch.no_grad():\n",
    "    encoder.eval()\n",
    "    for batch in tqdm(traj_dl, desc=\"compressing \"):\n",
    "        batch = batch.to(device=device, dtype=torch.float32)\n",
    "        z.append(encoder(batch))\n",
    "\n",
    "pickle.dump(z, open(\"compressed_file.pkl\", \"wb\"))\n",
    "print('\\n'+'_'*70)"
   ]
  },
  {
   "cell_type": "code",
   "execution_count": 57,
   "id": "9bece719-d2bf-4c21-b166-439402833ae0",
   "metadata": {},
   "outputs": [
    {
     "name": "stdout",
     "output_type": "stream",
     "text": [
      "Original Size [MB]   :        247.601\n",
      "Compressed Size [MB] :          0.082\n",
      "Compression %        :         99.967\n",
      "---\n",
      "RMSD [Å]             :          0.774\n"
     ]
    }
   ],
   "source": [
    "org_size = os.path.getsize('/orange/alberto.perezant/t.desilva/insulin/water/no_water_aligned/md_water.nc')\n",
    "comp_size = os.path.getsize(f\"compressed_file.pkl\")\n",
    "compression = 100*(1 - comp_size/org_size)\n",
    "\n",
    "template = \"{string:<20} :{value:15.3f}\"\n",
    "print(template.format(string='Original Size [MB]', value=round(org_size*1e-6,3)))\n",
    "print(template.format(string='Compressed Size [MB]', value=round(comp_size*1e-6,3)))\n",
    "print(template.format(string='Compression %', value=round(compression,3)))\n",
    "print('---')\n",
    "\n",
    "# save the rmsd, r2, mae beforehand with or without plots so we can acces to calculate following\n",
    "print(template.format(string='RMSD [\\u212B]', value=round(np.mean(x),3))) "
   ]
  },
  {
   "cell_type": "code",
   "execution_count": 54,
   "id": "6225255f-95a7-450d-a842-6cbffd93f0da",
   "metadata": {},
   "outputs": [
    {
     "data": {
      "text/plain": [
       "array([0.74860238, 0.6680546 , 0.63146889, 0.71058422, 0.68840303,\n",
       "       0.64838439, 0.84032707, 0.77188261, 0.54357763, 4.82224345,\n",
       "       0.58557641, 0.64067267, 0.64953677, 0.49598273, 0.61114062,\n",
       "       0.66617496, 0.93920663, 0.67683905, 0.65760411, 0.60837805,\n",
       "       0.4918227 , 0.6239355 , 0.54093082, 0.68434201, 0.71201794,\n",
       "       0.54762039, 0.60949448, 0.78184925, 0.65353662, 0.66120118,\n",
       "       0.67434572, 0.67333683, 0.70189916, 0.54673687, 0.80885075,\n",
       "       0.70842296, 0.62829085, 0.60477905, 0.82695261, 0.67097679,\n",
       "       0.69839276, 0.96550047, 0.60085688, 0.53228755, 0.93312263,\n",
       "       0.68214186, 0.53857967, 0.90207912, 0.68676606, 0.62861539,\n",
       "       0.70652239, 0.62760517, 0.58151174, 3.12075496, 0.74641958,\n",
       "       4.25307125, 0.64092018, 0.62006142, 0.59469018, 0.75643212,\n",
       "       0.66463105, 0.6620004 , 1.60914287, 0.69410734, 0.60218804,\n",
       "       1.49238378, 1.08927935, 0.66385768, 0.61357077, 0.93245856,\n",
       "       0.6841433 , 0.6880518 , 0.9037105 , 0.66692293, 0.50638244,\n",
       "       0.73251665, 0.58591172, 0.58454353, 2.7781564 , 0.63801423,\n",
       "       0.74603491, 0.74144416, 0.69741867, 0.73215559, 0.61974458,\n",
       "       0.61384156, 0.90413667, 0.68531267, 0.62732831, 0.82690693,\n",
       "       0.64873382, 0.76122023, 0.67976795, 0.64771995, 0.64797647,\n",
       "       0.7183972 , 0.72292536, 0.68795294, 0.61347228, 0.58970273,\n",
       "       0.57860773, 0.85720994, 0.6204268 , 0.70753738, 1.17186211,\n",
       "       0.98029912, 0.63770637, 0.54200504, 0.67517415, 0.56546859,\n",
       "       0.74334688, 0.58552481, 0.6800013 , 0.80165565, 0.61799914,\n",
       "       0.88497669, 0.74798658, 0.60856424, 0.61063364, 1.3036938 ,\n",
       "       0.60382906, 0.77024661, 0.66892467, 0.63631892, 0.66934235,\n",
       "       3.63241941, 3.8661775 , 0.59802152, 0.74329607, 0.62656924,\n",
       "       0.56296498, 0.82962468, 0.52234594, 0.55716537, 0.75328991,\n",
       "       0.73714249, 0.64783655, 2.45576605, 0.7380949 , 0.61025001,\n",
       "       0.60230091, 0.92028432, 0.87310076, 0.55471964, 0.65671898,\n",
       "       0.76973647, 0.68103358, 0.5563106 , 0.6602294 , 0.66169225,\n",
       "       0.61114062, 0.71071178, 0.73463783, 0.6505245 , 0.6568455 ,\n",
       "       0.53749863, 0.66642433, 0.57291374, 0.5002743 , 0.76433972,\n",
       "       0.60935814, 0.78517541, 0.72179601, 0.74382432, 0.59861492,\n",
       "       0.82114086, 0.72493918, 0.6601721 , 0.56140635, 0.66978239,\n",
       "       0.5401063 , 0.68482749, 0.68509214, 0.73741913, 0.63768268,\n",
       "       3.13019753, 0.67966796, 0.6990198 , 0.69233112, 0.59987549,\n",
       "       0.48150074, 0.53751267, 0.72132491, 0.55229042, 0.55850595,\n",
       "       0.85466824, 0.57169944, 0.62192254, 0.909767  , 1.54781148,\n",
       "       0.75499274, 0.57325643, 0.63266397, 0.61642036, 0.7441695 ,\n",
       "       0.54903932, 0.65377928, 0.62052418, 0.77946886, 0.72436586,\n",
       "       0.53972855, 0.77093281, 0.67567743, 0.73496684, 0.57415176,\n",
       "       0.77062897, 0.72704099, 0.55769388, 0.81277288, 0.77322222,\n",
       "       0.62737644, 0.6764707 , 0.63329645, 0.78124031, 0.7469558 ,\n",
       "       1.68385118, 0.72207853, 0.685004  , 0.85177325, 0.91934808,\n",
       "       0.65539487, 0.56673624, 0.61639585, 1.54775783, 0.77750884,\n",
       "       0.65212496, 0.71563698, 0.64292066, 0.61747335, 0.67387506,\n",
       "       0.55042718, 0.66835977, 0.88392623, 0.59181254, 0.64122654,\n",
       "       0.64031884, 0.77493973, 0.69072537, 0.86539261, 0.53090923,\n",
       "       0.70301756, 0.74240118, 0.68596266, 0.83079845, 1.17553703,\n",
       "       0.62369332, 0.65625876, 0.67743033, 3.93592894, 0.63542798,\n",
       "       0.62760517, 0.61336145, 0.69262564, 0.62221397, 0.59339315,\n",
       "       0.61304115, 0.72650053, 0.60143489, 0.79492785, 0.6167879 ,\n",
       "       0.83621792, 0.61195586, 0.67971237, 0.65717898, 0.68013459,\n",
       "       0.58174554, 0.64763837, 0.69149047, 0.5819273 , 0.76647148,\n",
       "       0.70238329, 0.70552737, 0.57965118, 0.64428218, 0.87090045,\n",
       "       0.83378442, 0.70314646, 0.5921188 , 0.59376221, 0.81405446,\n",
       "       0.73765472, 0.62700309, 0.60979187, 0.7864251 , 0.64014181,\n",
       "       0.71629114, 0.54543659, 0.71309917, 0.69372624, 0.80624089,\n",
       "       0.61281931, 0.78743301, 0.71556315, 0.64872213, 0.71025461,\n",
       "       0.70391953, 0.59692159, 0.835495  , 0.68896241, 0.69310538,\n",
       "       1.75351858, 0.63833386, 0.72540797, 0.61242476, 0.95518053,\n",
       "       0.66375531, 3.96631181, 0.56681622, 0.68288341, 0.67179807,\n",
       "       0.73062703, 0.73632225, 0.73216595, 0.7338766 , 0.68495989,\n",
       "       0.57140868, 0.58422036, 0.85324414, 0.82366675, 0.80255039,\n",
       "       0.67102179, 0.70126399, 0.66302657, 0.76184519, 0.72065435,\n",
       "       0.70825234, 0.78739464, 0.79724312, 0.59606045, 0.57524275,\n",
       "       0.64760335, 0.79752728, 0.64329654, 0.71285553, 0.69368273,\n",
       "       3.21349412, 0.77112876, 0.55155136, 0.62614709, 0.95234513,\n",
       "       0.58601484, 0.6258937 , 0.62845916, 0.77187285, 0.69341041,\n",
       "       0.60417924, 0.66425584, 0.57932533, 0.89785717, 4.02591884,\n",
       "       0.69059409, 0.73513128, 0.80556609, 0.71826048, 0.50299983,\n",
       "       0.72342671, 0.73608629, 0.69890097, 0.76164685, 0.63602209,\n",
       "       0.89040585, 0.55376559, 0.64402416, 0.6053783 , 0.79692088,\n",
       "       0.76859728, 0.76537669, 0.72317608, 0.7516636 , 0.64677469,\n",
       "       0.57424389, 0.6313134 , 0.73172212, 0.52553218, 0.58032844,\n",
       "       0.68993755, 0.67631438, 0.55678565, 0.96845336, 1.26233354,\n",
       "       0.70788965, 0.63828655, 1.65421575, 0.63946888, 0.68876505,\n",
       "       0.70636205, 0.56094866, 0.59861492, 0.92304632, 0.73689654,\n",
       "       0.659004  , 0.65919884, 0.71002059, 0.63486904, 0.71581639,\n",
       "       0.64469241, 0.6910643 , 0.75606249, 1.05751991, 0.72774716,\n",
       "       0.57893403, 1.00895382, 0.5681074 , 0.80971874, 0.73143303,\n",
       "       0.64784825, 0.64905971, 0.59093118, 0.60017761, 1.03567243,\n",
       "       0.60514115, 0.56340761, 0.57787616, 0.62922798, 0.71586914,\n",
       "       1.59140378, 0.84363751, 0.69348671, 0.61970804, 0.60395412,\n",
       "       0.64616702, 0.66315189, 0.81570454, 0.56465313, 0.64904809,\n",
       "       0.69458596, 0.89581884, 0.76163694, 0.71939543, 0.55126365,\n",
       "       0.67834407, 0.79801016, 0.56782812, 0.64811639, 0.67837745,\n",
       "       0.68159901, 0.73331021, 0.70636205, 0.61039858, 0.63763529,\n",
       "       0.53718936, 0.6917417 , 0.91522239, 0.9363874 , 0.60036637,\n",
       "       0.62750891, 0.90041116, 0.59554063, 1.71423927, 0.7418821 ,\n",
       "       1.2358027 , 0.65444909, 0.72724879, 0.53480763, 0.64801149,\n",
       "       1.14267193, 0.7002075 , 0.67215778, 0.99955902, 0.63301019,\n",
       "       0.72351031, 0.71200728, 1.47095084, 0.68813965, 0.95643714,\n",
       "       0.60991574, 0.76437928, 0.68551108, 1.08815536, 0.6394098 ,\n",
       "       0.90668134, 0.57077378, 0.80475919, 0.62064588, 0.74064903,\n",
       "       0.59949759, 0.82989782, 0.62518127, 0.56275025, 0.75376101,\n",
       "       0.76865621, 0.81357181, 0.65616667, 0.75848639, 0.99436894,\n",
       "       0.83028004, 0.80850504, 0.56303207, 0.62203184, 0.92357807,\n",
       "       0.64628392, 0.60662482, 1.05596162, 0.89692287, 0.59631385,\n",
       "       0.52455388, 0.68195358, 0.64381301, 2.13906109, 0.61327521,\n",
       "       0.86076267, 0.75869553, 0.73731668, 0.58736678, 0.75746991,\n",
       "       0.66477872, 0.6737069 , 0.62719584, 0.76425076, 0.69543377,\n",
       "       0.5947664 , 0.55496469, 0.62233537, 0.84432669, 0.64457521,\n",
       "       0.87788932, 0.58371589, 0.7343705 , 0.56993939, 0.6599433 ,\n",
       "       0.7736519 , 0.65154552, 0.72977878, 0.76506086, 0.5908417 ,\n",
       "       0.63526154, 0.62360853, 0.65902695, 1.96420506, 0.60564026,\n",
       "       0.64228594, 0.59987549, 0.94576277, 0.53092342, 0.72730072,\n",
       "       0.58022432, 0.89967258, 0.81405446, 0.58868989, 0.56039628,\n",
       "       0.70610531, 0.69343224, 0.53640131, 0.74383453, 0.64261511,\n",
       "       0.5840005 , 0.74121997, 0.67870036, 0.55740938, 0.67962348,\n",
       "       0.69430314, 0.82813926, 0.61716743, 0.7233014 , 0.55336986,\n",
       "       0.63070282, 0.63764714, 0.63526154, 0.61929345, 0.7235416 ,\n",
       "       0.53525943, 0.45094326, 0.67545377, 0.61270837, 0.78046642,\n",
       "       0.65012954, 2.14511931, 0.6025517 , 0.5689976 , 0.79064965,\n",
       "       0.81501894, 0.81457391, 0.84128834, 0.6775976 , 0.87459624,\n",
       "       0.72253861, 0.71630165, 0.74256398, 0.6669569 , 0.60469162,\n",
       "       0.81413798, 0.63738644, 0.80927081, 0.53196102, 1.40297487,\n",
       "       1.3885954 , 0.76734804, 0.77146173, 0.89695655, 0.65299317,\n",
       "       0.73301144, 0.72341628, 0.64302638, 0.67566618, 0.62701516,\n",
       "       0.99850804, 0.65473758, 0.69998093, 0.51557753, 0.68727188,\n",
       "       0.7189858 , 0.63995302, 0.73326901, 0.72562657, 0.88436194,\n",
       "       0.69380246, 0.8411447 , 0.96643105, 0.63302211, 0.60591459,\n",
       "       0.75494267, 0.78069866, 0.86713664, 0.83659723, 0.58402639,\n",
       "       0.62029283, 0.5877139 , 1.77569717, 0.71995169, 0.6831599 ,\n",
       "       0.47328856, 0.70097305, 0.7608927 , 0.77535875, 0.66620894,\n",
       "       0.91053888, 0.60122136, 0.702179  , 0.67032352, 0.53916842,\n",
       "       0.80029763, 0.63533291, 0.52872781, 0.86340018, 0.66233121,\n",
       "       0.58804799, 0.65316662, 0.54657105, 0.8475592 , 0.69435753,\n",
       "       0.75631224, 0.73890299, 0.74370243, 0.71731336, 0.66657171,\n",
       "       0.49862575, 2.71654546, 0.80028825, 0.58267966, 0.76431997,\n",
       "       1.28944919, 0.59503306, 0.67430086, 0.71736597, 1.0804154 ,\n",
       "       0.59285827, 0.85146278, 0.67255102, 0.73916875, 0.69907382,\n",
       "       0.65026894, 0.68180956, 0.65249555, 0.77370077, 0.68268426,\n",
       "       0.55755842, 2.13081703, 0.70271663, 1.39739648, 0.72454318,\n",
       "       0.69009081, 0.6272801 , 0.61366923, 1.54990375, 0.77111892,\n",
       "       0.59031729, 1.09194592, 0.60267702, 0.66196613, 0.57202965,\n",
       "       0.5519484 , 0.60901094, 0.70628718, 0.64462207, 0.64167403,\n",
       "       0.51005375, 1.43557414, 0.71893327, 0.53535819, 0.94527543,\n",
       "       0.75120121, 0.74034303, 0.59957318, 0.58486652, 0.54763418,\n",
       "       0.55496469, 0.67657121, 0.57787616, 0.7641618 , 0.80326535,\n",
       "       0.60529094, 0.79289168, 0.75207554, 0.62567644, 0.66005774,\n",
       "       0.61884198, 0.65879762, 0.58469854, 0.70081137, 0.64374261,\n",
       "       0.68718396, 0.64957164, 0.73326901, 0.81574157, 0.66320881,\n",
       "       0.60576499, 0.64042501, 0.64102627, 0.56490723, 0.69048472,\n",
       "       0.6052535 , 0.74833989, 4.16682333, 0.59607312, 0.62766537,\n",
       "       0.8308439 , 0.54486848, 0.56197118, 0.51889271, 0.59231013,\n",
       "       0.69412909, 0.68931319, 0.69091126, 1.79833308, 0.94743855,\n",
       "       0.60686134, 0.78066967, 0.68633698, 0.73023409, 0.65815523,\n",
       "       0.75064793, 0.59255239, 0.66093832, 0.55237249, 0.66824675,\n",
       "       0.81968606, 0.67690603, 0.66757947, 0.64897828, 0.60762018,\n",
       "       0.80434613, 0.69804661, 0.69169797, 0.6241776 , 0.68608381,\n",
       "       0.72967529, 0.70259839, 0.78420311, 1.31975487, 0.7584466 ,\n",
       "       0.65654643, 0.63392833, 0.68572037, 0.57054874, 1.15568697,\n",
       "       0.59262887, 0.59626319, 0.53894419, 0.53537231, 0.64746335,\n",
       "       0.74538663, 0.70749469, 0.71841821, 0.65038517, 0.6762585 ,\n",
       "       0.84897511, 2.09338576, 0.70525967, 0.53867783, 0.61177067,\n",
       "       0.69228746, 0.58588594, 0.52877069, 0.94540328, 0.84045291,\n",
       "       0.56560218, 0.65978304, 0.52855633, 0.5299693 , 0.69761358,\n",
       "       0.56234743, 0.64543009, 0.53801838, 0.65123245, 0.63909076,\n",
       "       0.77941075, 0.63488089, 0.84032707, 0.72857708, 0.68544492,\n",
       "       0.653814  , 0.63998841, 0.5949061 , 0.75274818, 3.39707673,\n",
       "       0.72206803, 2.05456346, 0.58344405, 0.5722937 , 0.61343532,\n",
       "       0.62167957, 0.68954326, 0.60752071, 0.738995  , 0.61567239,\n",
       "       0.63849948, 0.63558251, 1.20916463, 0.61573375, 0.80823414,\n",
       "       0.73026508, 0.70366196, 0.7151407 , 3.19543242, 0.67423366,\n",
       "       0.70144705, 0.70017517, 0.68788707, 0.60972992, 0.6083408 ,\n",
       "       0.55976238, 0.68889663, 0.67862242, 0.75161338, 0.7277783 ,\n",
       "       0.66660568, 0.60265198, 0.70186689, 0.92088334, 0.55561766,\n",
       "       0.76434962, 0.5184995 , 0.8359921 , 0.68231903, 0.60765747,\n",
       "       0.59105899, 0.49697172, 0.62541083, 0.60262691, 0.54070733,\n",
       "       0.792825  , 2.42338732, 0.63998841, 0.65774195, 0.5722145 ,\n",
       "       0.8102037 , 0.72498091, 1.62130222, 0.66284426, 0.62418971,\n",
       "       0.64374261, 1.11160912, 0.62480658, 0.9375564 , 0.71426347,\n",
       "       0.76318257, 0.93045548, 0.64153276, 0.95899262, 0.60455419,\n",
       "       0.78506954, 0.71251631, 0.70540965, 0.6865681 , 0.55968143,\n",
       "       0.58586016, 0.80268212, 0.65636232, 0.61443195, 0.65162666,\n",
       "       0.79264395, 0.73246509, 0.64621381, 0.66728525, 0.5421862 ,\n",
       "       0.65501444, 0.49337152, 1.4337945 , 0.75511277, 0.71483433,\n",
       "       0.60486648, 0.55591669, 0.7337942 , 0.60655009, 0.71455956,\n",
       "       0.6348452 ])"
      ]
     },
     "execution_count": 54,
     "metadata": {},
     "output_type": "execute_result"
    }
   ],
   "source": [
    "x"
   ]
  },
  {
   "cell_type": "code",
   "execution_count": null,
   "id": "435b61bc-4d9e-4699-b7ca-f88e042d2cb2",
   "metadata": {},
   "outputs": [],
   "source": []
  }
 ],
 "metadata": {
  "kernelspec": {
   "display_name": "Python 3 (ipykernel)",
   "language": "python",
   "name": "python3"
  },
  "language_info": {
   "codemirror_mode": {
    "name": "ipython",
    "version": 3
   },
   "file_extension": ".py",
   "mimetype": "text/x-python",
   "name": "python",
   "nbconvert_exporter": "python",
   "pygments_lexer": "ipython3",
   "version": "3.12.8"
  }
 },
 "nbformat": 4,
 "nbformat_minor": 5
}
