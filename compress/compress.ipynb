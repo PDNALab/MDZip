{
 "cells": [
  {
   "cell_type": "code",
   "execution_count": 1,
   "id": "2aa2ac2a-27bc-4ba6-97db-2fa90ac31ddb",
   "metadata": {},
   "outputs": [
    {
     "name": "stderr",
     "output_type": "stream",
     "text": [
      "/home/t.desilva/.conda/envs/myEnv/lib/python3.10/site-packages/torchvision/io/image.py:13: UserWarning: Failed to load image Python extension: libtorch_cuda_cu.so: cannot open shared object file: No such file or directory\n",
      "  warn(f\"Failed to load image Python extension: {e}\")\n"
     ]
    }
   ],
   "source": [
    "import torch\n",
    "import torch.nn as nn\n",
    "import torch.optim as optim\n",
    "import torch.nn.functional as F\n",
    "from torch.utils.data import DataLoader\n",
    "\n",
    "import torchvision\n",
    "import torchvision.datasets as datasets\n",
    "import torchvision.transforms as transforms\n",
    "from torchvision.utils import make_grid\n",
    "\n",
    "from torchinfo import summary\n",
    "\n",
    "import numpy as np\n",
    "import matplotlib.pyplot as plt\n",
    "\n",
    "import utils\n",
    "import compress"
   ]
  },
  {
   "cell_type": "code",
   "execution_count": 2,
   "id": "f678bb87-4abc-4ade-a8bb-524612a34e2a",
   "metadata": {},
   "outputs": [
    {
     "name": "stdout",
     "output_type": "stream",
     "text": [
      "Device name: NVIDIA A100-SXM4-80GB \n",
      "\n"
     ]
    }
   ],
   "source": [
    "device = 'cuda' if torch.cuda.is_available() else 'cpu'\n",
    "print('Device name:', torch.cuda.get_device_name(), '\\n')"
   ]
  },
  {
   "cell_type": "code",
   "execution_count": 3,
   "id": "e813e55a-1890-46cd-9352-7e6ceb164b1d",
   "metadata": {},
   "outputs": [],
   "source": [
    "traj, n_atoms = utils.read_traj(xtc_='../../Storage/Data/00.xtc', top_='../../Storage/Data/system.pdb')"
   ]
  },
  {
   "cell_type": "code",
   "execution_count": 6,
   "id": "9048cf09-3a65-4844-b092-116ed4dc59f8",
   "metadata": {},
   "outputs": [],
   "source": [
    "batch_size = 128\n",
    "\n",
    "traj_dl = DataLoader(traj, batch_size=batch_size, shuffle=True, drop_last=True)\n",
    "# norm_traj_dl = DataLoader(utils.minMaxScale(traj), batch_size=batch_size, shuffle=True, drop_last=True) # modified to be in range(0,1)"
   ]
  },
  {
   "cell_type": "code",
   "execution_count": 16,
   "id": "c347f528-9586-44ca-a50f-b6e1598d18fb",
   "metadata": {},
   "outputs": [
    {
     "data": {
      "text/plain": [
       "==========================================================================================\n",
       "Layer (type:depth-idx)                   Output Shape              Param #\n",
       "==========================================================================================\n",
       "AE                                       [128, 1, 127, 3]          --\n",
       "├─Sequential: 1-1                        [128, 20]                 --\n",
       "│    └─Conv2d: 2-1                       [128, 4096, 1, 3]         524,288\n",
       "│    └─LeakyReLU: 2-2                    [128, 4096, 1, 3]         --\n",
       "│    └─BatchNorm2d: 2-3                  [128, 4096, 1, 3]         8,192\n",
       "│    └─Conv2d: 2-4                       [128, 1024, 1, 1]         12,583,936\n",
       "│    └─LeakyReLU: 2-5                    [128, 1024, 1, 1]         --\n",
       "│    └─BatchNorm2d: 2-6                  [128, 1024, 1, 1]         2,048\n",
       "│    └─Flatten: 2-7                      [128, 1024]               --\n",
       "│    └─Linear: 2-8                       [128, 512]                524,800\n",
       "│    └─BatchNorm1d: 2-9                  [128, 512]                1,024\n",
       "│    └─LeakyReLU: 2-10                   [128, 512]                --\n",
       "│    └─Linear: 2-11                      [128, 256]                131,328\n",
       "│    └─BatchNorm1d: 2-12                 [128, 256]                512\n",
       "│    └─LeakyReLU: 2-13                   [128, 256]                --\n",
       "│    └─Linear: 2-14                      [128, 20]                 5,140\n",
       "│    └─ReLU: 2-15                        [128, 20]                 --\n",
       "├─Sequential: 1-2                        [128, 1, 127, 3]          --\n",
       "│    └─Linear: 2-16                      [128, 256]                5,376\n",
       "│    └─BatchNorm1d: 2-17                 [128, 256]                512\n",
       "│    └─LeakyReLU: 2-18                   [128, 256]                --\n",
       "│    └─Linear: 2-19                      [128, 512]                131,584\n",
       "│    └─BatchNorm1d: 2-20                 [128, 512]                1,024\n",
       "│    └─LeakyReLU: 2-21                   [128, 512]                --\n",
       "│    └─Linear: 2-22                      [128, 1024]               525,312\n",
       "│    └─BatchNorm1d: 2-23                 [128, 1024]               2,048\n",
       "│    └─LeakyReLU: 2-24                   [128, 1024]               --\n",
       "│    └─Unflatten: 2-25                   [128, 1024, 1, 1]         --\n",
       "│    └─ConvTranspose2d: 2-26             [128, 4096, 1, 3]         12,587,008\n",
       "│    └─BatchNorm2d: 2-27                 [128, 4096, 1, 3]         8,192\n",
       "│    └─LeakyReLU: 2-28                   [128, 4096, 1, 3]         --\n",
       "│    └─ConvTranspose2d: 2-29             [128, 1, 127, 3]          520,193\n",
       "==========================================================================================\n",
       "Total params: 27,562,517\n",
       "Trainable params: 27,562,517\n",
       "Non-trainable params: 0\n",
       "Total mult-adds (G): 32.19\n",
       "==========================================================================================\n",
       "Input size (MB): 0.20\n",
       "Forward/backward pass size (MB): 58.08\n",
       "Params size (MB): 110.25\n",
       "Estimated Total Size (MB): 168.53\n",
       "=========================================================================================="
      ]
     },
     "execution_count": 16,
     "metadata": {},
     "output_type": "execute_result"
    }
   ],
   "source": [
    "model = compress.AE(n_atoms=n_atoms).to(device)\n",
    "optimizer = optim.AdamW(model.parameters(), lr=1e-4)\n",
    "\n",
    "summary(model, input_size=(batch_size, 1, n_atoms, 3))"
   ]
  },
  {
   "cell_type": "code",
   "execution_count": 8,
   "id": "cdaf054f-7f0f-488f-9123-6b00695ccd63",
   "metadata": {},
   "outputs": [],
   "source": [
    "def training_batch(data, model, optimizer):\n",
    "    model.train()\n",
    "    data = data.to(device)\n",
    "    recon = model(data)\n",
    "    loss = loss_function(recon, data)\n",
    "    avg_RMSD = RMSD_(recon, data)\n",
    "    optimizer.zero_grad()\n",
    "    loss.backward()\n",
    "    optimizer.step()\n",
    "    return loss, avg_RMSD"
   ]
  },
  {
   "cell_type": "code",
   "execution_count": 9,
   "id": "0fd847fa-a26b-4f96-a8b7-c7861eaa15a9",
   "metadata": {},
   "outputs": [],
   "source": [
    "def RMSD_(recon, x, reduce='mean'):\n",
    "    avg_RMSD = 0.0\n",
    "    x1 = recon.to(device).reshape(-1,recon.shape[2], 3)\n",
    "    x2 = x.to(device).reshape(-1,recon.shape[2], 3)\n",
    "    for i in range(len(x1)):\n",
    "        avg_RMSD += torch.sqrt(torch.mean(torch.sum((x1[i] - x2[i])**2, axis=0)))\n",
    "    if reduce == 'mean':\n",
    "        return avg_RMSD/len(x1)\n",
    "    if reduce == 'sum':\n",
    "        return avg_RMSD"
   ]
  },
  {
   "cell_type": "code",
   "execution_count": 11,
   "id": "210d8e14-6813-48da-8321-950422a76ccf",
   "metadata": {},
   "outputs": [],
   "source": [
    "def loss_function(recon, x):\n",
    "    criterion = compress.RMSDLoss()\n",
    "    rmsd = criterion(recon, x)\n",
    "    return rmsd"
   ]
  },
  {
   "cell_type": "code",
   "execution_count": 12,
   "id": "020c2dc4-860a-4714-9e16-cda824a71318",
   "metadata": {},
   "outputs": [
    {
     "name": "stdout",
     "output_type": "stream",
     "text": [
      "Epoch:  10/100\t|\t Mean training loss:  0.1216 \t|\t mean_RMSD = 1.292  \n",
      "\n",
      "Epoch:  20/100\t|\t Mean training loss:  0.1009 \t|\t mean_RMSD = 1.063  \n",
      "\n",
      "Epoch:  30/100\t|\t Mean training loss:  0.0872 \t|\t mean_RMSD = 0.917  \n",
      "\n",
      "Epoch:  40/100\t|\t Mean training loss:  0.0790 \t|\t mean_RMSD = 0.835  \n",
      "\n",
      "Epoch:  50/100\t|\t Mean training loss:  0.0763 \t|\t mean_RMSD = 0.805  \n",
      "\n",
      "Epoch:  60/100\t|\t Mean training loss:  0.0717 \t|\t mean_RMSD = 0.756  \n",
      "\n",
      "Epoch:  70/100\t|\t Mean training loss:  0.0686 \t|\t mean_RMSD = 0.731  \n",
      "\n",
      "Epoch:  80/100\t|\t Mean training loss:  0.0669 \t|\t mean_RMSD = 0.700  \n",
      "\n",
      "Epoch:  90/100\t|\t Mean training loss:  0.0645 \t|\t mean_RMSD = 0.681  \n",
      "\n",
      "Epoch: 100/100\t|\t Mean training loss:  0.0626 \t|\t mean_RMSD = 0.657  \n",
      "\n"
     ]
    }
   ],
   "source": [
    "np.random.seed(42)\n",
    "torch.manual_seed(42)\n",
    "torch.cuda.manual_seed(42)\n",
    "\n",
    "n_epochs = 100\n",
    "\n",
    "training_loss = []\n",
    "RMSD = []\n",
    "\n",
    "for epoch in range(n_epochs):\n",
    "    training_losses = []\n",
    "    RMSDs = []\n",
    "    \n",
    "    for data in traj_dl:\n",
    "        data = data.reshape(-1,1,model.n_atoms,3).to(device)\n",
    "        # org = org.reshape(-1,1,127,3).to(device)\n",
    "        trng_batch_loss, avg_RMSD = training_batch(data, model, optimizer)\n",
    "        training_losses.append(trng_batch_loss.item())\n",
    "        RMSDs.append(avg_RMSD.item())\n",
    "    training_per_epoch_loss = np.array(training_losses).mean()\n",
    "    rmsd_per_epoch = np.array(RMSDs).mean()\n",
    "    \n",
    "    training_loss.append(training_per_epoch_loss)\n",
    "    RMSD.append(rmsd_per_epoch)\n",
    "    \n",
    "    if (epoch+1) % 10==0:\n",
    "        print(f'Epoch: {epoch+1:>3d}/{n_epochs}\\t|\\t Mean training loss: {training_per_epoch_loss:7.4f} \\t|\\t mean_RMSD = {rmsd_per_epoch:5.3f}  \\n')"
   ]
  },
  {
   "cell_type": "code",
   "execution_count": 16,
   "id": "4293f670-214e-4b73-b458-ef5be7768888",
   "metadata": {},
   "outputs": [
    {
     "data": {
      "image/png": "[encoded data removed]",
      "text/plain": [
       "<Figure size 1200x500 with 2 Axes>"
      ]
     },
     "metadata": {},
     "output_type": "display_data"
    }
   ],
   "source": [
    "fig, ax = plt.subplots(ncols=2, figsize=(12, 5))\n",
    "\n",
    "ax[0].plot(training_loss, 'g-', linewidth=2, label='Training loss')\n",
    "ax[1].plot(RMSD, 'r-', linewidth=2, label='RMSD [training]')\n",
    "# plt.plot(test_loss, 'c--', linewidth=2, label='Test loss')\n",
    "\n",
    "ax[0].set_xlabel('No. of epochs', fontsize=17)\n",
    "ax[0].set_ylabel('Losses', fontsize=17)\n",
    "ax[0].legend(fontsize=14)\n",
    "ax[1].set_xlabel('No. of epochs', fontsize=17)\n",
    "ax[1].set_ylabel('<RMSD>', fontsize=17)\n",
    "# ax[1].set_ylim(0,0.2)\n",
    "ax[1].legend(fontsize=14);"
   ]
  },
  {
   "cell_type": "code",
   "execution_count": 14,
   "id": "9de57bc4-d313-4af0-a7c8-0251edf95b8d",
   "metadata": {},
   "outputs": [
    {
     "data": {
      "text/plain": [
       "0.06376423686742783"
      ]
     },
     "execution_count": 14,
     "metadata": {},
     "output_type": "execute_result"
    }
   ],
   "source": [
    "model.eval()\n",
    "x1 = model(torch.tensor(traj[:2]).reshape(2,1,127,3).to(device))\n",
    "x2 = torch.tensor(traj[0]).to(device)\n",
    "\n",
    "loss_function(x1,x2).item()"
   ]
  },
  {
   "cell_type": "code",
   "execution_count": 15,
   "id": "c2787a05-e535-4f0b-b590-39613e1c3cba",
   "metadata": {},
   "outputs": [
    {
     "data": {
      "text/plain": [
       "0.03188211843371391"
      ]
     },
     "execution_count": 15,
     "metadata": {},
     "output_type": "execute_result"
    }
   ],
   "source": [
    "torch.sqrt(torch.mean((x1-x2)**2)).item()/2"
   ]
  },
  {
   "cell_type": "code",
   "execution_count": null,
   "id": "9a6c77fb-5f30-4583-8812-7dd4289bda39",
   "metadata": {},
   "outputs": [],
   "source": []
  }
 ],
 "metadata": {
  "kernelspec": {
   "display_name": "NamiTorch ML",
   "language": "python",
   "name": "myenv"
  },
  "language_info": {
   "codemirror_mode": {
    "name": "ipython",
    "version": 3
   },
   "file_extension": ".py",
   "mimetype": "text/x-python",
   "name": "python",
   "nbconvert_exporter": "python",
   "pygments_lexer": "ipython3",
   "version": "3.10.12"
  }
 },
 "nbformat": 4,
 "nbformat_minor": 5
}
