{
 "cells": [
  {
   "cell_type": "code",
   "execution_count": 1,
   "id": "836b09b8-86b5-4808-961f-948db08c09a8",
   "metadata": {},
   "outputs": [],
   "source": [
    "import torch\n",
    "import torch.nn as nn\n",
    "from torch.utils.data import Dataset, DataLoader\n",
    "import pytorch_lightning as pl\n",
    "\n",
    "import numpy as np\n",
    "import matplotlib.pyplot as plt\n",
    "\n",
    "from utils import *\n",
    "from compress import *"
   ]
  },
  {
   "cell_type": "code",
   "execution_count": 2,
   "id": "376565e3-0bfb-4933-b0de-919f00cc9306",
   "metadata": {},
   "outputs": [
    {
     "name": "stdout",
     "output_type": "stream",
     "text": [
      "Device name: NVIDIA A100-SXM4-80GB \n",
      "\n"
     ]
    }
   ],
   "source": [
    "device = 'cuda' if torch.cuda.is_available() else 'cpu'\n",
    "print('Device name:', torch.cuda.get_device_name(), '\\n')"
   ]
  },
  {
   "cell_type": "code",
   "execution_count": 3,
   "id": "6c81350a-ad4e-4d95-b610-80ac7544cc88",
   "metadata": {},
   "outputs": [
    {
     "name": "stdout",
     "output_type": "stream",
     "text": [
      "\n",
      "Trajectory stats : #_Frames = 100000\t#_Atoms = 202\n",
      "______________________________________________________________________ \n",
      "\n",
      "Start reading coordinates from trajectory to train model...\n",
      "[1000 frames with stride 100]\n"
     ]
    },
    {
     "name": "stderr",
     "output_type": "stream",
     "text": [
      "Loading trajectory: 100.00% |████████████████████|"
     ]
    },
    {
     "name": "stdout",
     "output_type": "stream",
     "text": [
      "\n",
      "DataLoader created\n",
      "______________________________________________________________________ \n",
      "\n"
     ]
    },
    {
     "name": "stderr",
     "output_type": "stream",
     "text": [
      "\n"
     ]
    }
   ],
   "source": [
    "traj_dl, n_atoms = read_traj_to_dl(\n",
    "    traj_ = '/orange/alberto.perezant/t.desilva/insulin/water/no_water_aligned/md_water.nc', \n",
    "    top_ = '/orange/alberto.perezant/t.desilva/insulin/water/no_water_aligned/system.parm7',\n",
    "    batch_size = 128,\n",
    "    stride = 100,\n",
    "    memmap=False\n",
    ")"
   ]
  },
  {
   "cell_type": "code",
   "execution_count": 4,
   "id": "23f12fce-ffa8-477e-9782-80b2b59f60ea",
   "metadata": {},
   "outputs": [],
   "source": [
    "model = AE(n_atoms=n_atoms)\n",
    "model = LightAE(model=model, lr=1e-4, weight_decay=0)"
   ]
  },
  {
   "cell_type": "code",
   "execution_count": 5,
   "id": "a1917709-5dce-4875-9edb-ef38f0052627",
   "metadata": {},
   "outputs": [
    {
     "name": "stderr",
     "output_type": "stream",
     "text": [
      "GPU available: True (cuda), used: True\n",
      "TPU available: False, using: 0 TPU cores\n",
      "HPU available: False, using: 0 HPUs\n",
      "LOCAL_RANK: 0 - CUDA_VISIBLE_DEVICES: [5]\n",
      "\n",
      "  | Name    | Type     | Params | Mode \n",
      "---------------------------------------------\n",
      "0 | model   | AE       | 28.2 M | train\n",
      "1 | loss_fn | RMSELoss | 0      | train\n",
      "---------------------------------------------\n",
      "28.2 M    Trainable params\n",
      "0         Non-trainable params\n",
      "28.2 M    Total params\n",
      "112.708   Total estimated model params size (MB)\n",
      "33        Modules in train mode\n",
      "0         Modules in eval mode\n",
      "SLURM auto-requeueing enabled. Setting signal handlers.\n",
      "/blue/alberto.perezant/t.desilva/conda/envs/compress/lib/python3.12/site-packages/pytorch_lightning/loops/fit_loop.py:298: The number of training batches (7) is smaller than the logging interval Trainer(log_every_n_steps=50). Set a lower value for log_every_n_steps if you want to see logs for the training epoch.\n"
     ]
    },
    {
     "data": {
      "application/vnd.jupyter.widget-view+json": {
       "model_id": "f1ad3b0aa1b14052a923f701106dc588",
       "version_major": 2,
       "version_minor": 0
      },
      "text/plain": [
       "Training: |          | 0/? [00:00<?, ?it/s]"
      ]
     },
     "metadata": {},
     "output_type": "display_data"
    },
    {
     "name": "stderr",
     "output_type": "stream",
     "text": [
      "`Trainer.fit` stopped: `max_epochs=100` reached.\n"
     ]
    }
   ],
   "source": [
    "torch.set_float32_matmul_precision('medium')\n",
    "trainer = pl.Trainer(max_epochs=100, accelerator='gpu', devices=1)\n",
    "trainer.fit(model, traj_dl)"
   ]
  },
  {
   "cell_type": "code",
   "execution_count": 22,
   "id": "114e3e55-02b2-4455-99ff-3f2ef893b9f6",
   "metadata": {},
   "outputs": [
    {
     "data": {
      "image/png": "[encoded data removed]",
      "text/plain": [
       "<Figure size 1000x400 with 2 Axes>"
      ]
     },
     "metadata": {},
     "output_type": "display_data"
    }
   ],
   "source": [
    "fig, ax = plt.subplots(figsize=(10,4), ncols=2)\n",
    "\n",
    "ax[0].tick_params(axis='both', which='major', labelsize=12, labelfontfamily='monospace')\n",
    "ax[0].plot(model.epoch_losses, color='red')\n",
    "ax[0].set_xlabel('epoch', fontsize=14, fontfamily='serif')\n",
    "ax[0].set_ylabel('RMSE', fontsize=14, fontfamily='serif')\n",
    "\n",
    "ax[1].tick_params(axis='both', which='major', labelsize=12, labelfontfamily='monospace')\n",
    "# ax[1].plot(model.epoch_losses)\n",
    "ax[1].set_xlabel('RMSD', fontsize=14, fontfamily='serif')\n",
    "ax[1].set_ylabel('Density', fontsize=14, fontfamily='serif')\n",
    "#give average value and the standard deviation\n",
    "\n",
    "plt.tight_layout()\n",
    "plt.show()"
   ]
  },
  {
   "cell_type": "code",
   "execution_count": null,
   "id": "9bdb80f1-de38-4c1d-b00c-fdd3a0feddee",
   "metadata": {},
   "outputs": [],
   "source": []
  }
 ],
 "metadata": {
  "kernelspec": {
   "display_name": "Python 3 (ipykernel)",
   "language": "python",
   "name": "python3"
  },
  "language_info": {
   "codemirror_mode": {
    "name": "ipython",
    "version": 3
   },
   "file_extension": ".py",
   "mimetype": "text/x-python",
   "name": "python",
   "nbconvert_exporter": "python",
   "pygments_lexer": "ipython3",
   "version": "3.12.8"
  }
 },
 "nbformat": 4,
 "nbformat_minor": 5
}
