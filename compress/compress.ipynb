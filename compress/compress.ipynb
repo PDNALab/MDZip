{
 "cells": [
  {
   "cell_type": "code",
   "execution_count": 15,
   "id": "836b09b8-86b5-4808-961f-948db08c09a8",
   "metadata": {},
   "outputs": [],
   "source": [
    "import warnings\n",
    "warnings.filterwarnings(\"ignore\")\n",
    "\n",
    "import torch\n",
    "import torch.nn as nn\n",
    "from torch.utils.data import Dataset, DataLoader\n",
    "import pytorch_lightning as pl\n",
    "import pickle\n",
    "\n",
    "import numpy as np\n",
    "import matplotlib.pyplot as plt\n",
    "\n",
    "from utils import *\n",
    "from autoencoder import *"
   ]
  },
  {
   "cell_type": "code",
   "execution_count": 2,
   "id": "d8133bbe-8300-4e9c-b148-294ac8dac780",
   "metadata": {},
   "outputs": [
    {
     "data": {
      "text/plain": [
       "'\\nWhen taking inputs first check sanity and warn user.\\nex: check file paths and output path (if output exists give warning before overwrite)\\n'"
      ]
     },
     "execution_count": 2,
     "metadata": {},
     "output_type": "execute_result"
    }
   ],
   "source": [
    "'''\n",
    "When taking inputs first check sanity and warn user.\n",
    "ex: check file paths and output path (if output exists give warning before overwrite)\n",
    "'''"
   ]
  },
  {
   "cell_type": "code",
   "execution_count": 21,
   "id": "376565e3-0bfb-4933-b0de-919f00cc9306",
   "metadata": {},
   "outputs": [
    {
     "name": "stdout",
     "output_type": "stream",
     "text": [
      "Device name: NVIDIA A100-SXM4-80GB \n",
      "\n"
     ]
    }
   ],
   "source": [
    "device = torch.device('cuda') if torch.cuda.is_available() else torch.device('cpu')\n",
    "print('Device name:', torch.cuda.get_device_name(device), '\\n')\n"
   ]
  },
  {
   "cell_type": "code",
   "execution_count": 4,
   "id": "6c81350a-ad4e-4d95-b610-80ac7544cc88",
   "metadata": {},
   "outputs": [
    {
     "name": "stdout",
     "output_type": "stream",
     "text": [
      "\n",
      "Trajectory stats : #_Frames = 100000\t#_Atoms = 202\n",
      "______________________________________________________________________ \n",
      "\n",
      "Start reading coordinates from trajectory to train model...\n",
      "[100000 frames with stride 1]\n"
     ]
    },
    {
     "name": "stderr",
     "output_type": "stream",
     "text": [
      "\n",
      "oading trajectory: 100.00% |████████████████████|"
     ]
    }
   ],
   "source": [
    "traj = read_traj(\n",
    "    traj_ = '/orange/alberto.perezant/t.desilva/insulin/water/no_water_aligned/md_water.nc', \n",
    "    top_ = '/orange/alberto.perezant/t.desilva/insulin/water/no_water_aligned/system.parm7',\n",
    "    stride = 1,\n",
    "    memmap=False\n",
    ")\n",
    "n_atoms = traj.shape[2]\n",
    "traj_dl = DataLoader(traj, batch_size=128, shuffle=True, drop_last=True, num_workers=4)"
   ]
  },
  {
   "cell_type": "code",
   "execution_count": 5,
   "id": "23f12fce-ffa8-477e-9782-80b2b59f60ea",
   "metadata": {},
   "outputs": [],
   "source": [
    "model = AE(n_atoms=n_atoms)\n",
    "model = LightAE(model=model, lr=1e-4, weight_decay=0)"
   ]
  },
  {
   "cell_type": "code",
   "execution_count": 6,
   "id": "a1917709-5dce-4875-9edb-ef38f0052627",
   "metadata": {},
   "outputs": [
    {
     "name": "stderr",
     "output_type": "stream",
     "text": [
      "GPU available: True (cuda), used: True\n",
      "TPU available: False, using: 0 TPU cores\n",
      "HPU available: False, using: 0 HPUs\n"
     ]
    },
    {
     "name": "stdout",
     "output_type": "stream",
     "text": [
      "Training Autoencoder:\n"
     ]
    },
    {
     "name": "stderr",
     "output_type": "stream",
     "text": [
      "LOCAL_RANK: 0 - CUDA_VISIBLE_DEVICES: [4]\n",
      "\n",
      "  | Name    | Type     | Params | Mode \n",
      "---------------------------------------------\n",
      "0 | model   | AE       | 28.2 M | train\n",
      "1 | loss_fn | RMSELoss | 0      | train\n",
      "---------------------------------------------\n",
      "28.2 M    Trainable params\n",
      "0         Non-trainable params\n",
      "28.2 M    Total params\n",
      "112.708   Total estimated model params size (MB)\n",
      "33        Modules in train mode\n",
      "0         Modules in eval mode\n",
      "SLURM auto-requeueing enabled. Setting signal handlers.\n"
     ]
    },
    {
     "data": {
      "application/vnd.jupyter.widget-view+json": {
       "model_id": "09a51c8df0284724acf6d521357e8dd9",
       "version_major": 2,
       "version_minor": 0
      },
      "text/plain": [
       "Training: |          | 0/? [00:00<?, ?it/s]"
      ]
     },
     "metadata": {},
     "output_type": "display_data"
    },
    {
     "name": "stderr",
     "output_type": "stream",
     "text": [
      "`Trainer.fit` stopped: `max_epochs=3` reached.\n"
     ]
    },
    {
     "name": "stdout",
     "output_type": "stream",
     "text": [
      "Autoencoder training complete\n",
      "\n",
      "______________________________________________________________________ \n",
      "\n"
     ]
    }
   ],
   "source": [
    "print('Training Autoencoder:')\n",
    "torch.set_float32_matmul_precision('medium')\n",
    "trainer = pl.Trainer(max_epochs=3, accelerator='gpu', devices=1)\n",
    "trainer.fit(model, traj_dl)"
   ]
  },
  {
   "cell_type": "code",
   "execution_count": null,
   "id": "114e3e55-02b2-4455-99ff-3f2ef893b9f6",
   "metadata": {},
   "outputs": [
    {
     "name": "stderr",
     "output_type": "stream",
     "text": [
      "calculating RMSD :   0.06% |                     |"
     ]
    }
   ],
   "source": [
    "fig, ax = plt.subplots(figsize=(10,4), ncols=2)\n",
    "\n",
    "ax[0].tick_params(axis='both', which='major', labelsize=12, labelfontfamily='monospace')\n",
    "ax[0].plot(model.epoch_losses, color='red')\n",
    "ax[0].set_xlabel('epoch', fontsize=14, fontfamily='serif')\n",
    "ax[0].set_ylabel('RMSE $(nm)$', fontsize=14, fontfamily='serif')\n",
    "\n",
    "ax[1].tick_params(axis='both', which='major', labelsize=12, labelfontfamily='monospace')\n",
    "x = rmsd_(model=model, dl=traj_dl, \n",
    "                    top = '/orange/alberto.perezant/t.desilva/insulin/water/no_water_aligned/system.parm7')*10\n",
    "bins = 100\n",
    "ax[1].hist(x, bins=bins)\n",
    "\n",
    "hist, bin_edges = np.histogram(x, bins=bins)\n",
    "med = approx_median(hist=hist, bin_edges=bin_edges)\n",
    "\n",
    "ax[1].set_xlabel(r'RMSD $(\\AA)$', fontsize=14, fontfamily='serif')\n",
    "ax[1].set_ylabel('Density', fontsize=14, fontfamily='serif')\n",
    "ax[1].text(0.58, 0.95, f'AVG: {np.mean(x):.3f}\\nSTD: {np.std(x):.3f}\\nMED: {med[0]:.3f}\\u00B1{med[1]:.3f}', transform=ax[1].transAxes, fontsize=12,\n",
    "               verticalalignment='top', bbox=dict(boxstyle='round', facecolor='wheat', alpha=0.5))\n",
    "ax[1].axvline(x=np.mean(x), color='grey', linestyle='--', label='Vertical line at x=7')\n",
    "#give average value and the standard deviation\n",
    "\n",
    "plt.tight_layout()\n",
    "plt.show()"
   ]
  },
  {
   "cell_type": "code",
   "execution_count": null,
   "id": "9bdb80f1-de38-4c1d-b00c-fdd3a0feddee",
   "metadata": {},
   "outputs": [],
   "source": [
    "# are there ways to get correlation coefficient for 3d data? -- get it to validate model"
   ]
  },
  {
   "cell_type": "code",
   "execution_count": null,
   "id": "99ddd54b-b10d-4fd7-96c7-763b47fcaa59",
   "metadata": {},
   "outputs": [],
   "source": [
    "FitMetrics(model=model, dl=traj_dl, \n",
    "                    top = '/orange/alberto.perezant/t.desilva/insulin/water/no_water_aligned/system.parm7')[0]"
   ]
  },
  {
   "cell_type": "code",
   "execution_count": null,
   "id": "47c0d3d2-d494-4bc5-b8df-b085943768a9",
   "metadata": {},
   "outputs": [],
   "source": [
    "print('Saving model parmeters')\n",
    "torch.save(model, 'model.pt')"
   ]
  },
  {
   "cell_type": "code",
   "execution_count": null,
   "id": "aadd14bb-ff85-4a22-8014-1556efba68e3",
   "metadata": {},
   "outputs": [],
   "source": [
    "print('\\nInitiate compression')\n",
    "encoder = model.model.encoder.to(device)\n",
    "traj_dl = DataLoader(traj, batch_size=128, shuffle=False, drop_last=False, num_workers=4)\n",
    "# del model\n",
    "z = [] # Latent\n",
    "with torch.no_grad():\n",
    "    encoder.eval()\n",
    "    for batch in tqdm(traj_dl, desc=\"compressing \"):\n",
    "        batch = batch.to(device=device, dtype=torch.float32)\n",
    "        z.append(encoder(batch))\n",
    "\n",
    "pickle.dump(z, open(\"compressed_file.pkl\", \"wb\"))\n",
    "print('\\n'+'_'*70)"
   ]
  },
  {
   "cell_type": "code",
   "execution_count": null,
   "id": "9bece719-d2bf-4c21-b166-439402833ae0",
   "metadata": {},
   "outputs": [],
   "source": [
    "org_size = os.path.getsize('/orange/alberto.perezant/t.desilva/insulin/water/no_water_aligned/md_water.nc')\n",
    "comp_size = os.path.getsize(f\"compressed_file.pkl\")\n",
    "compression = 100*(1 - comp_size/org_size)\n",
    "\n",
    "template = \"{string:<20} :{value:15.3f}\"\n",
    "print(template.format(string='Original Size [MB]', value=round(org_size*1e-6,3)))\n",
    "print(template.format(string='Compressed Size [MB]', value=round(comp_size*1e-6,3)))\n",
    "print(template.format(string='Compression %', value=round(compression,3)))\n",
    "print('---')\n",
    "\n",
    "# save the rmsd, r2, mae beforehand with or without plots so we can acces to calculate following\n",
    "print(template.format(string='RMSD [\\u212B]', value=round(np.mean(x),3))) "
   ]
  },
  {
   "cell_type": "code",
   "execution_count": 14,
   "id": "435b61bc-4d9e-4699-b7ca-f88e042d2cb2",
   "metadata": {},
   "outputs": [],
   "source": [
    "# Add a cleanup - remove memmap and unnecessary files generated in the process -- utils"
   ]
  },
  {
   "cell_type": "code",
   "execution_count": null,
   "id": "b2db3cfd-d6c8-42f8-9f1a-328da1cd5702",
   "metadata": {},
   "outputs": [],
   "source": [
    "# Add the compressed file path"
   ]
  }
 ],
 "metadata": {
  "kernelspec": {
   "display_name": "Python 3 (ipykernel)",
   "language": "python",
   "name": "python3"
  },
  "language_info": {
   "codemirror_mode": {
    "name": "ipython",
    "version": 3
   },
   "file_extension": ".py",
   "mimetype": "text/x-python",
   "name": "python",
   "nbconvert_exporter": "python",
   "pygments_lexer": "ipython3",
   "version": "3.12.8"
  }
 },
 "nbformat": 4,
 "nbformat_minor": 5
}
