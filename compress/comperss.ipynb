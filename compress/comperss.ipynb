{
 "cells": [
  {
   "cell_type": "code",
   "execution_count": 1,
   "id": "2aa2ac2a-27bc-4ba6-97db-2fa90ac31ddb",
   "metadata": {},
   "outputs": [
    {
     "name": "stderr",
     "output_type": "stream",
     "text": [
      "/home/t.desilva/.conda/envs/myEnv/lib/python3.10/site-packages/torchvision/io/image.py:13: UserWarning: Failed to load image Python extension: libtorch_cuda_cu.so: cannot open shared object file: No such file or directory\n",
      "  warn(f\"Failed to load image Python extension: {e}\")\n"
     ]
    }
   ],
   "source": [
    "import torch\n",
    "import torch.nn as nn\n",
    "import torch.optim as optim\n",
    "import torch.nn.functional as F\n",
    "from torch.utils.data import DataLoader\n",
    "\n",
    "import torchvision\n",
    "import torchvision.datasets as datasets\n",
    "import torchvision.transforms as transforms\n",
    "from torchvision.utils import make_grid\n",
    "\n",
    "from torchinfo import summary\n",
    "\n",
    "import numpy as np\n",
    "import matplotlib.pyplot as plt\n",
    "\n",
    "import utils"
   ]
  },
  {
   "cell_type": "code",
   "execution_count": 2,
   "id": "f678bb87-4abc-4ade-a8bb-524612a34e2a",
   "metadata": {},
   "outputs": [
    {
     "name": "stdout",
     "output_type": "stream",
     "text": [
      "Device name: NVIDIA A100-SXM4-80GB \n",
      "\n"
     ]
    }
   ],
   "source": [
    "device = 'cuda' if torch.cuda.is_available() else 'cpu'\n",
    "print('Device name:', torch.cuda.get_device_name(), '\\n')"
   ]
  },
  {
   "cell_type": "code",
   "execution_count": 3,
   "id": "e813e55a-1890-46cd-9352-7e6ceb164b1d",
   "metadata": {},
   "outputs": [],
   "source": [
    "traj = utils.read_traj(xtc_='../../Storage/Data/00.xtc', top_='../../Storage/Data/system.pdb')"
   ]
  },
  {
   "cell_type": "code",
   "execution_count": 4,
   "id": "9048cf09-3a65-4844-b092-116ed4dc59f8",
   "metadata": {},
   "outputs": [],
   "source": [
    "batch_size = 128\n",
    "\n",
    "traj_dl = DataLoader(traj, batch_size=batch_size, shuffle=True, drop_last=True)\n",
    "# norm_traj_dl = DataLoader(utils.minMaxScale(traj), batch_size=batch_size, shuffle=True, drop_last=True) # modified to be in range(0,1)"
   ]
  },
  {
   "cell_type": "code",
   "execution_count": 5,
   "id": "5c7b4826-c831-4c49-a473-9294ab4ba444",
   "metadata": {},
   "outputs": [],
   "source": [
    "# # Used to check output image dimensions of each layer\n",
    "\n",
    "# conv1 = nn.Conv2d(1, 4096, kernel_size=(1,3))\n",
    "# input_ = torch.rand(16, 1, 1, 3)\n",
    "\n",
    "# print(conv1(input_).shape)"
   ]
  },
  {
   "cell_type": "code",
   "execution_count": 6,
   "id": "c314d663-fdd6-40f5-9bcc-3926322b6e5e",
   "metadata": {},
   "outputs": [],
   "source": [
    "class AE(nn.Module):\n",
    "    def __init__(self, n_channels=4096, n_atoms = 127, latent_dim=20):\n",
    "        super().__init__()\n",
    "        \n",
    "        self.n_channels = n_channels\n",
    "        self.n_atoms = n_atoms\n",
    "        self.latent_dim = latent_dim\n",
    "\n",
    "        self.encoder = nn.Sequential(\n",
    "            ##(N,1,n_atoms,03)\n",
    "            nn.Conv2d(1,n_channels,kernel_size=(n_atoms,1), bias=True), #(N,4096,1,3)\n",
    "            nn.LeakyReLU(0.2, inplace=True),\n",
    "            nn.BatchNorm2d(n_channels),\n",
    "            \n",
    "            nn.Conv2d(n_channels,n_channels//4,kernel_size=(1,3), bias=True), #(N,1024,1,1)\n",
    "            nn.LeakyReLU(0.1, inplace=True),\n",
    "            nn.BatchNorm2d(n_channels//4),\n",
    "            \n",
    "            nn.Flatten(),\n",
    "            \n",
    "            nn.Linear(1024, 512),\n",
    "            nn.BatchNorm1d(512),\n",
    "            nn.LeakyReLU(0.1, inplace=True),\n",
    "\n",
    "            nn.Linear(512, 256),\n",
    "            nn.BatchNorm1d(256),\n",
    "            nn.LeakyReLU(0.1, inplace=True),\n",
    "            \n",
    "            nn.Linear(256, latent_dim),\n",
    "            nn.ReLU()\n",
    "        )\n",
    "        \n",
    "        self.decoder = nn.Sequential(\n",
    "            #(N,latent_dim,1,1)\n",
    "            nn.Linear(latent_dim, 256),\n",
    "            nn.BatchNorm1d(256),\n",
    "            nn.LeakyReLU(0.1, inplace=True),\n",
    "\n",
    "            nn.Linear(256, 512),\n",
    "            nn.BatchNorm1d(512),\n",
    "            nn.LeakyReLU(0.1, inplace=True),\n",
    "            \n",
    "            nn.Linear(512, 1024),\n",
    "            nn.BatchNorm1d(1024),\n",
    "            nn.LeakyReLU(0.1, inplace=True),\n",
    "            \n",
    "            nn.Unflatten(1,(1024,1,1)),\n",
    "            \n",
    "            nn.ConvTranspose2d(1024,n_channels,kernel_size=(1,3), bias=True), #(N,4096,1,3)\n",
    "            nn.BatchNorm2d(n_channels),\n",
    "            nn.LeakyReLU(0.1, inplace=True),\n",
    "            \n",
    "            nn.ConvTranspose2d(n_channels, 1, kernel_size=(n_atoms,1), bias=True) #(N, 1, n_atoms, 3)\n",
    "        )\n",
    "        \n",
    "    def forward(self, x):\n",
    "        encoded = self.encoder(x)\n",
    "        decoded = self.decoder(encoded)\n",
    "        return decoded"
   ]
  },
  {
   "cell_type": "code",
   "execution_count": 7,
   "id": "c347f528-9586-44ca-a50f-b6e1598d18fb",
   "metadata": {},
   "outputs": [
    {
     "data": {
      "text/plain": [
       "==========================================================================================\n",
       "Layer (type:depth-idx)                   Output Shape              Param #\n",
       "==========================================================================================\n",
       "AE                                       [16, 1, 127, 3]           --\n",
       "├─Sequential: 1-1                        [16, 20]                  --\n",
       "│    └─Conv2d: 2-1                       [16, 4096, 1, 3]          524,288\n",
       "│    └─LeakyReLU: 2-2                    [16, 4096, 1, 3]          --\n",
       "│    └─BatchNorm2d: 2-3                  [16, 4096, 1, 3]          8,192\n",
       "│    └─Conv2d: 2-4                       [16, 1024, 1, 1]          12,583,936\n",
       "│    └─LeakyReLU: 2-5                    [16, 1024, 1, 1]          --\n",
       "│    └─BatchNorm2d: 2-6                  [16, 1024, 1, 1]          2,048\n",
       "│    └─Flatten: 2-7                      [16, 1024]                --\n",
       "│    └─Linear: 2-8                       [16, 512]                 524,800\n",
       "│    └─BatchNorm1d: 2-9                  [16, 512]                 1,024\n",
       "│    └─LeakyReLU: 2-10                   [16, 512]                 --\n",
       "│    └─Linear: 2-11                      [16, 256]                 131,328\n",
       "│    └─BatchNorm1d: 2-12                 [16, 256]                 512\n",
       "│    └─LeakyReLU: 2-13                   [16, 256]                 --\n",
       "│    └─Linear: 2-14                      [16, 20]                  5,140\n",
       "│    └─ReLU: 2-15                        [16, 20]                  --\n",
       "├─Sequential: 1-2                        [16, 1, 127, 3]           --\n",
       "│    └─Linear: 2-16                      [16, 256]                 5,376\n",
       "│    └─BatchNorm1d: 2-17                 [16, 256]                 512\n",
       "│    └─LeakyReLU: 2-18                   [16, 256]                 --\n",
       "│    └─Linear: 2-19                      [16, 512]                 131,584\n",
       "│    └─BatchNorm1d: 2-20                 [16, 512]                 1,024\n",
       "│    └─LeakyReLU: 2-21                   [16, 512]                 --\n",
       "│    └─Linear: 2-22                      [16, 1024]                525,312\n",
       "│    └─BatchNorm1d: 2-23                 [16, 1024]                2,048\n",
       "│    └─LeakyReLU: 2-24                   [16, 1024]                --\n",
       "│    └─Unflatten: 2-25                   [16, 1024, 1, 1]          --\n",
       "│    └─ConvTranspose2d: 2-26             [16, 4096, 1, 3]          12,587,008\n",
       "│    └─BatchNorm2d: 2-27                 [16, 4096, 1, 3]          8,192\n",
       "│    └─LeakyReLU: 2-28                   [16, 4096, 1, 3]          --\n",
       "│    └─ConvTranspose2d: 2-29             [16, 1, 127, 3]           520,193\n",
       "==========================================================================================\n",
       "Total params: 27,562,517\n",
       "Trainable params: 27,562,517\n",
       "Non-trainable params: 0\n",
       "Total mult-adds (G): 4.02\n",
       "==========================================================================================\n",
       "Input size (MB): 0.02\n",
       "Forward/backward pass size (MB): 7.26\n",
       "Params size (MB): 110.25\n",
       "Estimated Total Size (MB): 117.53\n",
       "=========================================================================================="
      ]
     },
     "execution_count": 7,
     "metadata": {},
     "output_type": "execute_result"
    }
   ],
   "source": [
    "model = AE().to(device)\n",
    "optimizer = optim.AdamW(model.parameters(), lr=1e-4)\n",
    "\n",
    "summary(model, input_size=(16, 1, 127, 3))"
   ]
  },
  {
   "cell_type": "code",
   "execution_count": 8,
   "id": "cdaf054f-7f0f-488f-9123-6b00695ccd63",
   "metadata": {},
   "outputs": [],
   "source": [
    "def training_batch(data, model, optimizer):\n",
    "    model.train()\n",
    "    data = data.to(device)\n",
    "    recon = model(data)\n",
    "    loss = loss_function(recon, data)\n",
    "    avg_RMSD = RMSD_(recon, data)\n",
    "    optimizer.zero_grad()\n",
    "    loss.backward()\n",
    "    optimizer.step()\n",
    "    return loss, avg_RMSD"
   ]
  },
  {
   "cell_type": "code",
   "execution_count": 9,
   "id": "0fd847fa-a26b-4f96-a8b7-c7861eaa15a9",
   "metadata": {},
   "outputs": [],
   "source": [
    "def RMSD_(recon, x, reduce='mean'):\n",
    "    avg_RMSD = 0.0\n",
    "    x1 = recon.to(device).reshape(-1,recon.shape[2], 3)\n",
    "    x2 = x.to(device).reshape(-1,recon.shape[2], 3)\n",
    "    for i in range(len(x1)):\n",
    "        avg_RMSD += torch.sqrt(torch.mean(torch.sum((x1[i] - x2[i])**2, axis=1)))\n",
    "    if reduce == 'mean':\n",
    "        return avg_RMSD/len(x1)\n",
    "    if reduce == 'sum':\n",
    "        return avg_RMSD"
   ]
  },
  {
   "cell_type": "code",
   "execution_count": 10,
   "id": "7025525f-936e-4254-9eda-d25bfc0408e2",
   "metadata": {},
   "outputs": [],
   "source": [
    "# calculate pair-wise distance matrices\n",
    "def pairwise_distances(coordinates):\n",
    "    coordinates = coordinates.reshape(batch_size, -1, 3)\n",
    "    coordinates = torch.tensor(coordinates, requires_grad=True)\n",
    "    \"\"\"\n",
    "    Calculates pairwise distances for a batch of 3N-dimensional coordinates.\n",
    "\n",
    "    Args:\n",
    "    coordinates: A PyTorch tensor of shape (B, N, 3) representing the x, y, z\n",
    "    coordinates of N points in a batch of size B.\n",
    "\n",
    "    Returns:\n",
    "    A PyTorch tensor of shape (B, N, N) representing the pairwise distances\n",
    "    for each set of coordinates in the batch.\n",
    "    \"\"\"\n",
    "\n",
    "    # Calculate squared differences for each dimension\n",
    "    diff_x = coordinates[:, :, 0][:, :, None] - coordinates[:, :, 0][:, None, :]\n",
    "    diff_y = coordinates[:, :, 1][:, :, None] - coordinates[:, :, 1][:, None, :]\n",
    "    diff_z = coordinates[:, :, 2][:, :, None] - coordinates[:, :, 2][:, None, :]\n",
    "    \n",
    "    # Calculate squared distances\n",
    "    squared_distances = diff_x ** 2 + diff_y ** 2 + diff_z ** 2\n",
    "    \n",
    "    # Return the square root (Euclidean distance)\n",
    "    return torch.sqrt(squared_distances)"
   ]
  },
  {
   "cell_type": "code",
   "execution_count": null,
   "id": "8141782d-231f-4171-a698-2362b3b04932",
   "metadata": {},
   "outputs": [],
   "source": []
  },
  {
   "cell_type": "code",
   "execution_count": 11,
   "id": "210d8e14-6813-48da-8321-950422a76ccf",
   "metadata": {},
   "outputs": [],
   "source": [
    "def loss_function(recon, x):\n",
    "    # criterion = nn.MSELoss(reduction='sum')\n",
    "    rmsd = RMSD_(recon, x, reduce='sum')\n",
    "    # distance_MSE = F.mse_loss(pairwise_distances(recon), pairwise_distances(x), reduction='mean')\n",
    "    # RECON = F.mse_loss(recon, x, reduction='sum')\n",
    "    # RECON = criterion(recon, x)\n",
    "    # RECON = nn.CrossEntropyLoss(recon,x)\n",
    "    return rmsd\n",
    "    # return rmsd + distance_MSE**0.5"
   ]
  },
  {
   "cell_type": "code",
   "execution_count": 12,
   "id": "020c2dc4-860a-4714-9e16-cda824a71318",
   "metadata": {},
   "outputs": [
    {
     "name": "stdout",
     "output_type": "stream",
     "text": [
      "Epoch:  10/250\t|\t Mean training loss: 24.3115 \t|\t mean_RMSD = 0.190  \n",
      "\n",
      "Epoch:  20/250\t|\t Mean training loss: 19.0950 \t|\t mean_RMSD = 0.149  \n",
      "\n",
      "Epoch:  30/250\t|\t Mean training loss: 16.4389 \t|\t mean_RMSD = 0.128  \n",
      "\n",
      "Epoch:  40/250\t|\t Mean training loss: 14.8255 \t|\t mean_RMSD = 0.116  \n",
      "\n",
      "Epoch:  50/250\t|\t Mean training loss: 14.1533 \t|\t mean_RMSD = 0.111  \n",
      "\n",
      "Epoch:  60/250\t|\t Mean training loss: 13.1853 \t|\t mean_RMSD = 0.103  \n",
      "\n",
      "Epoch:  70/250\t|\t Mean training loss: 12.8085 \t|\t mean_RMSD = 0.100  \n",
      "\n",
      "Epoch:  80/250\t|\t Mean training loss: 12.2392 \t|\t mean_RMSD = 0.096  \n",
      "\n",
      "Epoch:  90/250\t|\t Mean training loss: 11.9205 \t|\t mean_RMSD = 0.093  \n",
      "\n",
      "Epoch: 100/250\t|\t Mean training loss: 11.7292 \t|\t mean_RMSD = 0.092  \n",
      "\n",
      "Epoch: 110/250\t|\t Mean training loss: 11.2350 \t|\t mean_RMSD = 0.088  \n",
      "\n",
      "Epoch: 120/250\t|\t Mean training loss: 11.3857 \t|\t mean_RMSD = 0.089  \n",
      "\n",
      "Epoch: 130/250\t|\t Mean training loss: 10.6805 \t|\t mean_RMSD = 0.083  \n",
      "\n",
      "Epoch: 140/250\t|\t Mean training loss: 10.4214 \t|\t mean_RMSD = 0.081  \n",
      "\n",
      "Epoch: 150/250\t|\t Mean training loss: 10.3684 \t|\t mean_RMSD = 0.081  \n",
      "\n",
      "Epoch: 160/250\t|\t Mean training loss: 10.1686 \t|\t mean_RMSD = 0.079  \n",
      "\n",
      "Epoch: 170/250\t|\t Mean training loss:  9.8615 \t|\t mean_RMSD = 0.077  \n",
      "\n",
      "Epoch: 180/250\t|\t Mean training loss:  9.9403 \t|\t mean_RMSD = 0.078  \n",
      "\n",
      "Epoch: 190/250\t|\t Mean training loss:  9.4437 \t|\t mean_RMSD = 0.074  \n",
      "\n",
      "Epoch: 200/250\t|\t Mean training loss:  9.2665 \t|\t mean_RMSD = 0.072  \n",
      "\n",
      "Epoch: 210/250\t|\t Mean training loss:  9.0289 \t|\t mean_RMSD = 0.071  \n",
      "\n",
      "Epoch: 220/250\t|\t Mean training loss:  9.3238 \t|\t mean_RMSD = 0.073  \n",
      "\n",
      "Epoch: 230/250\t|\t Mean training loss:  8.6901 \t|\t mean_RMSD = 0.068  \n",
      "\n",
      "Epoch: 240/250\t|\t Mean training loss:  8.7441 \t|\t mean_RMSD = 0.068  \n",
      "\n",
      "Epoch: 250/250\t|\t Mean training loss:  9.2960 \t|\t mean_RMSD = 0.073  \n",
      "\n"
     ]
    }
   ],
   "source": [
    "np.random.seed(42)\n",
    "torch.manual_seed(42)\n",
    "torch.cuda.manual_seed(42)\n",
    "\n",
    "n_epochs = 250\n",
    "\n",
    "training_loss = []\n",
    "RMSD = []\n",
    "\n",
    "for epoch in range(n_epochs):\n",
    "    training_losses = []\n",
    "    RMSDs = []\n",
    "    \n",
    "    for data in traj_dl:\n",
    "        data = data.reshape(-1,1,model.n_atoms,3).to(device)\n",
    "        # org = org.reshape(-1,1,127,3).to(device)\n",
    "        trng_batch_loss, avg_RMSD = training_batch(data, model, optimizer)\n",
    "        training_losses.append(trng_batch_loss.item())\n",
    "        RMSDs.append(avg_RMSD.item())\n",
    "    training_per_epoch_loss = np.array(training_losses).mean()\n",
    "    rmsd_per_epoch = np.array(RMSDs).mean()\n",
    "    \n",
    "    training_loss.append(training_per_epoch_loss)\n",
    "    RMSD.append(rmsd_per_epoch)\n",
    "    \n",
    "    if (epoch+1) % 10==0:\n",
    "        print(f'Epoch: {epoch+1:>3d}/{n_epochs}\\t|\\t Mean training loss: {training_per_epoch_loss:7.4f} \\t|\\t mean_RMSD = {rmsd_per_epoch:5.3f}  \\n')"
   ]
  },
  {
   "cell_type": "code",
   "execution_count": 13,
   "id": "4293f670-214e-4b73-b458-ef5be7768888",
   "metadata": {},
   "outputs": [
    {
     "data": {
      "image/png": "[encoded data removed]",
      "text/plain": [
       "<Figure size 1200x500 with 2 Axes>"
      ]
     },
     "metadata": {},
     "output_type": "display_data"
    }
   ],
   "source": [
    "fig, ax = plt.subplots(ncols=2, figsize=(12, 5))\n",
    "\n",
    "ax[0].plot(training_loss, 'g-', linewidth=2, label='Training loss')\n",
    "ax[1].plot(RMSD, 'r-', linewidth=2, label='RMSD [training]')\n",
    "# plt.plot(test_loss, 'c--', linewidth=2, label='Test loss')\n",
    "\n",
    "ax[0].set_xlabel('No. of epochs', fontsize=17)\n",
    "ax[0].set_ylabel('Losses', fontsize=17)\n",
    "ax[0].legend(fontsize=14)\n",
    "ax[1].set_xlabel('No. of epochs', fontsize=17)\n",
    "ax[1].set_ylabel('<RMSD>', fontsize=17)\n",
    "ax[1].set_ylim(0,0.2)\n",
    "ax[1].legend(fontsize=14);"
   ]
  },
  {
   "cell_type": "code",
   "execution_count": null,
   "id": "58fb63ae-62be-4780-880c-0fd970f7d8af",
   "metadata": {},
   "outputs": [],
   "source": []
  }
 ],
 "metadata": {
  "kernelspec": {
   "display_name": "NamiTorch ML",
   "language": "python",
   "name": "myenv"
  },
  "language_info": {
   "codemirror_mode": {
    "name": "ipython",
    "version": 3
   },
   "file_extension": ".py",
   "mimetype": "text/x-python",
   "name": "python",
   "nbconvert_exporter": "python",
   "pygments_lexer": "ipython3",
   "version": "3.10.12"
  }
 },
 "nbformat": 4,
 "nbformat_minor": 5
}
