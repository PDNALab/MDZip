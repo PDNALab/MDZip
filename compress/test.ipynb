{
 "cells": [
  {
   "cell_type": "code",
   "execution_count": 1,
   "metadata": {},
   "outputs": [
    {
     "name": "stderr",
     "output_type": "stream",
     "text": [
      "/home/t.desilva/.conda/envs/myEnv/lib/python3.10/site-packages/torchvision/io/image.py:13: UserWarning: Failed to load image Python extension: libtorch_cuda_cu.so: cannot open shared object file: No such file or directory\n",
      "  warn(f\"Failed to load image Python extension: {e}\")\n"
     ]
    }
   ],
   "source": [
    "import torch\n",
    "import torch.nn as nn\n",
    "import torch.optim as optim\n",
    "import torch.nn.functional as F\n",
    "from torch.utils.data import DataLoader\n",
    "\n",
    "import torchvision\n",
    "import torchvision.datasets as datasets\n",
    "import torchvision.transforms as transforms\n",
    "from torchvision.utils import make_grid\n",
    "\n",
    "from torchinfo import summary\n",
    "\n",
    "import numpy as np\n",
    "import matplotlib.pyplot as plt\n",
    "from sklearn.preprocessing import MinMaxScaler\n",
    "\n",
    "import utils"
   ]
  },
  {
   "cell_type": "code",
   "execution_count": 2,
   "metadata": {},
   "outputs": [
    {
     "name": "stdout",
     "output_type": "stream",
     "text": [
      "Device name: NVIDIA A100-SXM4-80GB \n",
      "\n"
     ]
    }
   ],
   "source": [
    "device = 'cuda' if torch.cuda.is_available() else 'cpu'\n",
    "print('Device name:', torch.cuda.get_device_name(), '\\n')"
   ]
  },
  {
   "cell_type": "code",
   "execution_count": 3,
   "metadata": {},
   "outputs": [],
   "source": [
    "traj = utils.read_traj(xtc_='../../Storage/Data/00.xtc', top_='../../Storage/Data/system.pdb')\n",
    "# inp_traj = utils.minMaxScale(traj)\n",
    "inp_traj = traj\n",
    "\n",
    "batch_size = 256\n",
    "\n",
    "traj_dl = DataLoader(inp_traj, batch_size=batch_size, shuffle=True, drop_last=True)\n",
    "org_traj_dl = DataLoader(traj, batch_size=batch_size, shuffle=True, drop_last=True)"
   ]
  },
  {
   "cell_type": "code",
   "execution_count": 4,
   "metadata": {},
   "outputs": [
    {
     "name": "stdout",
     "output_type": "stream",
     "text": [
      "torch.Size([16, 1024, 127, 1])\n"
     ]
    }
   ],
   "source": [
    "# Used to check output image dimensions of each layer\n",
    "\n",
    "conv1 = nn.ConvTranspose2d(256, 1024, kernel_size=(1,1))\n",
    "input_ = torch.rand(16, 256, 127, 1)\n",
    "\n",
    "print(conv1(input_).shape)"
   ]
  },
  {
   "cell_type": "code",
   "execution_count": 5,
   "metadata": {},
   "outputs": [],
   "source": [
    "class convVAE(nn.Module):\n",
    "    def __init__(self, n_channels=4096, n_atoms = 127, latent_dim=16):\n",
    "        super().__init__()\n",
    "        \n",
    "        self.n_channels = n_channels\n",
    "        self.n_atoms = n_atoms\n",
    "        self.latent_dim = latent_dim\n",
    "\n",
    "        self.encoder = nn.Sequential(\n",
    "            #(N,1,n_atoms,3)\n",
    "            nn.Conv2d(1,n_channels,kernel_size=(1,1)), #(N,4096,127,3)\n",
    "            nn.BatchNorm2d(n_channels),\n",
    "            nn.LeakyReLU(0.2),\n",
    "            nn.Conv2d(n_channels,n_channels//4,kernel_size=(1,1)), #(N,1024,127,3)\n",
    "            nn.BatchNorm2d(n_channels//4),\n",
    "            nn.LeakyReLU(0.2),\n",
    "            nn.Conv2d(n_channels//4,n_channels//16,kernel_size=(1,3)), #(N,256,127,1)\n",
    "            nn.BatchNorm2d(n_channels//16),\n",
    "            nn.LeakyReLU(0.2),\n",
    "            nn.Conv2d(n_channels//16,latent_dim,kernel_size=(n_atoms,1)), #(N,latent_dim,1,1)\n",
    "            nn.ReLU()\n",
    "        )\n",
    "        \n",
    "        self.decoder = nn.Sequential(\n",
    "            #(N,latent_dim,1,1)\n",
    "            nn.ConvTranspose2d(latent_dim,n_channels//16,kernel_size=(127,1)), #(N,256,n_atoms,1)\n",
    "            nn.BatchNorm2d(n_channels//16),\n",
    "            nn.LeakyReLU(0.2),\n",
    "            nn.ConvTranspose2d(n_channels//16, n_channels//4, kernel_size=(1,1)), #(N,1024,127,1)\n",
    "            nn.BatchNorm2d(n_channels//4),\n",
    "            nn.LeakyReLU(0.2),\n",
    "            nn.ConvTranspose2d(n_channels//4, n_channels, kernel_size=(1,1)), #(N,4096,127,1)\n",
    "            nn.BatchNorm2d(n_channels),\n",
    "            nn.LeakyReLU(0.2),\n",
    "            nn.ConvTranspose2d(n_channels, 1, kernel_size=(1,3)), #(N, 1, n_atoms, 3)\n",
    "            # nn.Sigmoid()\n",
    "        )\n",
    "        \n",
    "    def forward(self, x):\n",
    "        encoded = self.encoder(x)\n",
    "        decoded = self.decoder(encoded)\n",
    "        # symmetric_output = (decoded + decoded.transpose(-1, -2)) / 2.0  # Calculate symmetric output\n",
    "#         clamped_output = torch.clamp(symmetric_output, min=0, max=1.0)\n",
    "        return decoded"
   ]
  },
  {
   "cell_type": "code",
   "execution_count": 6,
   "metadata": {},
   "outputs": [
    {
     "data": {
      "text/plain": [
       "==========================================================================================\n",
       "Layer (type:depth-idx)                   Output Shape              Param #\n",
       "==========================================================================================\n",
       "convVAE                                  [32, 1, 127, 3]           --\n",
       "├─Sequential: 1-1                        [32, 16, 1, 1]            --\n",
       "│    └─Conv2d: 2-1                       [32, 4096, 127, 3]        8,192\n",
       "│    └─BatchNorm2d: 2-2                  [32, 4096, 127, 3]        8,192\n",
       "│    └─LeakyReLU: 2-3                    [32, 4096, 127, 3]        --\n",
       "│    └─Conv2d: 2-4                       [32, 1024, 127, 3]        4,195,328\n",
       "│    └─BatchNorm2d: 2-5                  [32, 1024, 127, 3]        2,048\n",
       "│    └─LeakyReLU: 2-6                    [32, 1024, 127, 3]        --\n",
       "│    └─Conv2d: 2-7                       [32, 256, 127, 1]         786,688\n",
       "│    └─BatchNorm2d: 2-8                  [32, 256, 127, 1]         512\n",
       "│    └─LeakyReLU: 2-9                    [32, 256, 127, 1]         --\n",
       "│    └─Conv2d: 2-10                      [32, 16, 1, 1]            520,208\n",
       "│    └─ReLU: 2-11                        [32, 16, 1, 1]            --\n",
       "├─Sequential: 1-2                        [32, 1, 127, 3]           --\n",
       "│    └─ConvTranspose2d: 2-12             [32, 256, 127, 1]         520,448\n",
       "│    └─BatchNorm2d: 2-13                 [32, 256, 127, 1]         512\n",
       "│    └─LeakyReLU: 2-14                   [32, 256, 127, 1]         --\n",
       "│    └─ConvTranspose2d: 2-15             [32, 1024, 127, 1]        263,168\n",
       "│    └─BatchNorm2d: 2-16                 [32, 1024, 127, 1]        2,048\n",
       "│    └─LeakyReLU: 2-17                   [32, 1024, 127, 1]        --\n",
       "│    └─ConvTranspose2d: 2-18             [32, 4096, 127, 1]        4,198,400\n",
       "│    └─BatchNorm2d: 2-19                 [32, 4096, 127, 1]        8,192\n",
       "│    └─LeakyReLU: 2-20                   [32, 4096, 127, 1]        --\n",
       "│    └─ConvTranspose2d: 2-21             [32, 1, 127, 3]           12,289\n",
       "==========================================================================================\n",
       "Total params: 10,526,225\n",
       "Trainable params: 10,526,225\n",
       "Non-trainable params: 0\n",
       "Total mult-adds (G): 74.86\n",
       "==========================================================================================\n",
       "Input size (MB): 0.05\n",
       "Forward/backward pass size (MB): 1365.09\n",
       "Params size (MB): 42.10\n",
       "Estimated Total Size (MB): 1407.24\n",
       "=========================================================================================="
      ]
     },
     "execution_count": 6,
     "metadata": {},
     "output_type": "execute_result"
    }
   ],
   "source": [
    "model = convVAE(n_atoms=127).to(device)\n",
    "# model.double()\n",
    "\n",
    "criterion = nn.MSELoss()\n",
    "optimizer = torch.optim.Adam(model.parameters(), lr=1e-5, weight_decay=1e-4)\n",
    "\n",
    "summary(model, input_size=(32, 1, 127, 3))"
   ]
  },
  {
   "cell_type": "code",
   "execution_count": 7,
   "metadata": {},
   "outputs": [
    {
     "name": "stdout",
     "output_type": "stream",
     "text": [
      "Epoch:  0/100 \t|\t Loss:25.425058\n",
      "Epoch: 10/100 \t|\t Loss:0.137462\n",
      "Epoch: 20/100 \t|\t Loss:0.070806\n",
      "Epoch: 30/100 \t|\t Loss:0.051211\n",
      "Epoch: 40/100 \t|\t Loss:0.042381\n",
      "Epoch: 50/100 \t|\t Loss:0.039077\n",
      "Epoch: 60/100 \t|\t Loss:0.036835\n",
      "Epoch: 70/100 \t|\t Loss:0.034073\n",
      "Epoch: 80/100 \t|\t Loss:0.031686\n",
      "Epoch: 90/100 \t|\t Loss:0.031993\n",
      "Epoch:100/100 \t|\t Loss:0.031082\n"
     ]
    }
   ],
   "source": [
    "np.random.seed(42)\n",
    "torch.manual_seed(42)\n",
    "torch.cuda.manual_seed(42)\n",
    "\n",
    "num_epochs = 100\n",
    "outputs = []\n",
    "for epoch in range(0,num_epochs+1):\n",
    "    for batch, org_batch in zip(traj_dl,org_traj_dl):\n",
    "        recon = model(batch.reshape(-1,1,127,3).to(device))\n",
    "        loss = criterion(recon.to(device), org_batch.reshape(-1,1,127,3).to(device))\n",
    "        \n",
    "        optimizer.zero_grad()\n",
    "        loss.backward()\n",
    "        optimizer.step()\n",
    "        outputs.append(loss.item())\n",
    "    if epoch%10==0:\n",
    "        print(f'Epoch:{epoch:>3d}/{num_epochs} \\t|\\t Loss:{loss.item():.6f}')\n",
    "#     outputs.append((epoch, dmat_org[0], recon))"
   ]
  },
  {
   "cell_type": "code",
   "execution_count": 8,
   "metadata": {},
   "outputs": [
    {
     "data": {
      "image/png": "[encoded data removed]",
      "text/plain": [
       "<Figure size 800x500 with 1 Axes>"
      ]
     },
     "metadata": {},
     "output_type": "display_data"
    }
   ],
   "source": [
    "plt.figure(figsize=(8, 5))\n",
    "\n",
    "plt.plot(outputs,range(len(outputs)), linewidth=2, label='Training loss')\n",
    "# plt.plot(test_loss, 'c--', linewidth=2, label='Test loss')\n",
    "plt.title('Loss curve', fontsize=23)\n",
    "plt.xlabel('No. of epochs', fontsize=17)\n",
    "plt.ylabel('Losses', fontsize=17)\n",
    "plt.xticks(fontsize=14)\n",
    "plt.yticks(fontsize=14)\n",
    "plt.legend(fontsize=14);"
   ]
  },
  {
   "cell_type": "code",
   "execution_count": 9,
   "metadata": {},
   "outputs": [
    {
     "data": {
      "text/plain": [
       "<matplotlib.image.AxesImage at 0x149c040c7dc0>"
      ]
     },
     "execution_count": 9,
     "metadata": {},
     "output_type": "execute_result"
    },
    {
     "data": {
      "image/png": "[encoded data removed]",
      "text/plain": [
       "<Figure size 1000x1000 with 2 Axes>"
      ]
     },
     "metadata": {},
     "output_type": "display_data"
    }
   ],
   "source": [
    "fig, ax = plt.subplots(ncols=2, figsize=(10,10))\n",
    "ax[0].imshow(traj[0].reshape(-1,3))\n",
    "ax[1].imshow(model(torch.tensor(traj[0]).to(device).reshape(-1,1,127,3))[0].to('cpu').detach().numpy().reshape(-1,3))"
   ]
  },
  {
   "cell_type": "code",
   "execution_count": 10,
   "metadata": {},
   "outputs": [
    {
     "data": {
      "text/plain": [
       "array([-0.72329926, -0.60518116,  0.18986614], dtype=float32)"
      ]
     },
     "execution_count": 10,
     "metadata": {},
     "output_type": "execute_result"
    }
   ],
   "source": [
    "traj[0][-1]"
   ]
  },
  {
   "cell_type": "code",
   "execution_count": 11,
   "metadata": {},
   "outputs": [
    {
     "data": {
      "text/plain": [
       "array([-0.7945115 , -0.47141612, -0.11401653], dtype=float32)"
      ]
     },
     "execution_count": 11,
     "metadata": {},
     "output_type": "execute_result"
    }
   ],
   "source": [
    "model(torch.tensor(traj[0]).to(device).reshape(-1,1,127,3))[0].to('cpu').detach().numpy().reshape(-1,3)[-1]"
   ]
  },
  {
   "cell_type": "code",
   "execution_count": null,
   "metadata": {},
   "outputs": [],
   "source": []
  }
 ],
 "metadata": {
  "kernelspec": {
   "display_name": "NamiTorch ML",
   "language": "python",
   "name": "myenv"
  },
  "language_info": {
   "codemirror_mode": {
    "name": "ipython",
    "version": 3
   },
   "file_extension": ".py",
   "mimetype": "text/x-python",
   "name": "python",
   "nbconvert_exporter": "python",
   "pygments_lexer": "ipython3",
   "version": "3.10.12"
  }
 },
 "nbformat": 4,
 "nbformat_minor": 4
}
