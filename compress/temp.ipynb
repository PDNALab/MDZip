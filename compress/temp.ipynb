{
 "cells": [
  {
   "cell_type": "code",
   "execution_count": 1,
   "metadata": {},
   "outputs": [
    {
     "name": "stderr",
     "output_type": "stream",
     "text": [
      "/home/t.desilva/.conda/envs/myEnv/lib/python3.10/site-packages/torchvision/io/image.py:13: UserWarning: Failed to load image Python extension: libtorch_cuda_cu.so: cannot open shared object file: No such file or directory\n",
      "  warn(f\"Failed to load image Python extension: {e}\")\n"
     ]
    }
   ],
   "source": [
    "import torch\n",
    "import torch.nn as nn\n",
    "import torch.optim as optim\n",
    "import torch.nn.functional as F\n",
    "from torch.utils.data import DataLoader\n",
    "\n",
    "import torchvision\n",
    "import torchvision.datasets as datasets\n",
    "import torchvision.transforms as transforms\n",
    "from torchvision.utils import make_grid\n",
    "\n",
    "from torchinfo import summary\n",
    "\n",
    "import numpy as np\n",
    "import matplotlib.pyplot as plt\n",
    "\n",
    "import utils"
   ]
  },
  {
   "cell_type": "code",
   "execution_count": 2,
   "metadata": {},
   "outputs": [
    {
     "name": "stdout",
     "output_type": "stream",
     "text": [
      "Device name: NVIDIA A100-SXM4-80GB \n",
      "\n"
     ]
    }
   ],
   "source": [
    "device = 'cuda' if torch.cuda.is_available() else 'cpu'\n",
    "print('Device name:', torch.cuda.get_device_name(), '\\n')"
   ]
  },
  {
   "cell_type": "code",
   "execution_count": 3,
   "metadata": {},
   "outputs": [],
   "source": [
    "traj = utils.read_traj(xtc_='../../Storage/Data/00.xtc', top_='../../Storage/Data/system.pdb')"
   ]
  },
  {
   "cell_type": "code",
   "execution_count": 4,
   "metadata": {},
   "outputs": [],
   "source": [
    "traj_dl = DataLoader(traj, batch_size=16, shuffle=True, drop_last=True)"
   ]
  },
  {
   "cell_type": "code",
   "execution_count": 5,
   "metadata": {},
   "outputs": [],
   "source": [
    "class VAE(nn.Module):\n",
    "    def __init__(self, n_channels=4096, n_atoms = 127, latent_dim=16):\n",
    "        super().__init__()\n",
    "        \n",
    "        self.n_channels = n_channels\n",
    "        self.n_atoms = n_atoms\n",
    "        self.latent_dim = latent_dim\n",
    "\n",
    "        self.encoder = nn.Sequential(\n",
    "            ##(N,1,n_atoms,03)\n",
    "            nn.Conv2d(1,n_channels,kernel_size=(n_atoms,1),stride=3,padding=3), #(N,4096,3,3)\n",
    "            nn.LeakyReLU(0.2),\n",
    "            nn.Conv2d(n_channels,n_channels//4,kernel_size=(3,1)), #(N,1024,1,3)\n",
    "            nn.LeakyReLU(0.2),\n",
    "            nn.Conv2d(n_channels//4,n_channels//16,kernel_size=(1,1)), #(N,256,1,3)\n",
    "            nn.LeakyReLU(0.2),\n",
    "            nn.Conv2d(n_channels//16,latent_dim,kernel_size=(1,3)), #(N,latent_dim,1,1)\n",
    "            nn.LeakyReLU(0.2)\n",
    "        )\n",
    "        \n",
    "        self._mu = nn.Linear(latent_dim, latent_dim)\n",
    "        self._logvar = nn.Linear(latent_dim, latent_dim)\n",
    "\n",
    "        self.decoder = nn.Sequential(\n",
    "            #(N,latent_dim,1,1)\n",
    "            nn.ConvTranspose2d(latent_dim,n_channels//16,kernel_size=(1,3)), #(N,256,1,3)\n",
    "            nn.LeakyReLU(0.2),\n",
    "            nn.ConvTranspose2d(n_channels//16, n_channels//4, kernel_size=(1,1)), #(N,1024,1,3)\n",
    "            nn.LeakyReLU(0.2),\n",
    "            nn.ConvTranspose2d(n_channels//4, n_channels, kernel_size=(1,1)), #(N,4096,1,3)\n",
    "            nn.LeakyReLU(0.2),\n",
    "            nn.ConvTranspose2d(n_channels, 1, kernel_size=(n_atoms,1)), #(N, 1, n_atoms, 3)\n",
    "            # nn.Sigmoid()\n",
    "        )\n",
    "\n",
    "    def reparameterization(self, mu, logvar):\n",
    "        std = torch.exp(0.5 * logvar)\n",
    "        eps = torch.rand_like(std)\n",
    "        sampling = mu + (eps * std)\n",
    "        return sampling\n",
    "        \n",
    "    def forward(self, x):\n",
    "        x = self.encoder(x)\n",
    "        x = x.view(x.shape[0], -1)\n",
    "            \n",
    "        mu = self._mu(x)\n",
    "        logvar = self._logvar(x)\n",
    "            \n",
    "        x = self.reparameterization(mu, logvar)\n",
    "        x = x.view(-1, 16, 1, 1)\n",
    "            \n",
    "        return self.decoder(x), mu, logvar"
   ]
  },
  {
   "cell_type": "code",
   "execution_count": 6,
   "metadata": {},
   "outputs": [],
   "source": [
    "class convAE(nn.Module):\n",
    "    def __init__(self, n_channels=4096, n_atoms = 127, latent_dim=20):\n",
    "        super().__init__()\n",
    "        \n",
    "        self.n_channels = n_channels\n",
    "        self.n_atoms = n_atoms\n",
    "        self.latent_dim = latent_dim\n",
    "\n",
    "        self.encoder = nn.Sequential(\n",
    "            ##(N,1,n_atoms,03)\n",
    "            nn.Conv2d(1,n_channels,kernel_size=(n_atoms,1),stride=3,padding=3), #(N,4096,3,3)\n",
    "            nn.LeakyReLU(0.2),\n",
    "            nn.Conv2d(n_channels,n_channels//4,kernel_size=(3,1)), #(N,1024,1,3)\n",
    "            nn.LeakyReLU(0.2),\n",
    "            nn.Conv2d(n_channels//4,n_channels//16,kernel_size=(1,1)), #(N,256,1,3)\n",
    "            nn.LeakyReLU(0.2),\n",
    "            nn.Conv2d(n_channels//16,latent_dim,kernel_size=(1,3)), #(N,latent_dim,1,1)\n",
    "            nn.ReLU()\n",
    "        )\n",
    "        \n",
    "        \n",
    "\n",
    "        self.decoder = nn.Sequential(\n",
    "            #(N,latent_dim,1,1)\n",
    "            nn.ConvTranspose2d(latent_dim,n_channels//16,kernel_size=(1,3)), #(N,256,1,3)\n",
    "            nn.LeakyReLU(0.2),\n",
    "            nn.ConvTranspose2d(n_channels//16, n_channels//4, kernel_size=(1,1)), #(N,1024,1,3)\n",
    "            nn.LeakyReLU(0.2),\n",
    "            nn.ConvTranspose2d(n_channels//4, n_channels, kernel_size=(1,1)), #(N,4096,1,3)\n",
    "            nn.LeakyReLU(0.2),\n",
    "            nn.ConvTranspose2d(n_channels, 1, kernel_size=(n_atoms,1)), #(N, 1, n_atoms, 3)\n",
    "            # nn.Sigmoid()\n",
    "        )\n",
    "        \n",
    "    def forward(self, x):\n",
    "        encoded = self.encoder(x)\n",
    "        decoded = self.decoder(encoded)\n",
    "        # symmetric_output = (decoded + decoded.transpose(-1, -2)) / 2.0  # Calculate symmetric output\n",
    "#         clamped_output = torch.clamp(symmetric_output, min=0, max=1.0)\n",
    "        return decoded"
   ]
  },
  {
   "cell_type": "code",
   "execution_count": 7,
   "metadata": {},
   "outputs": [
    {
     "data": {
      "text/plain": [
       "==========================================================================================\n",
       "Layer (type:depth-idx)                   Output Shape              Param #\n",
       "==========================================================================================\n",
       "VAE                                      [32, 1, 127, 3]           --\n",
       "├─Sequential: 1-1                        [32, 16, 1, 1]            --\n",
       "│    └─Conv2d: 2-1                       [32, 4096, 3, 3]          524,288\n",
       "│    └─LeakyReLU: 2-2                    [32, 4096, 3, 3]          --\n",
       "│    └─Conv2d: 2-3                       [32, 1024, 1, 3]          12,583,936\n",
       "│    └─LeakyReLU: 2-4                    [32, 1024, 1, 3]          --\n",
       "│    └─Conv2d: 2-5                       [32, 256, 1, 3]           262,400\n",
       "│    └─LeakyReLU: 2-6                    [32, 256, 1, 3]           --\n",
       "│    └─Conv2d: 2-7                       [32, 16, 1, 1]            12,304\n",
       "│    └─LeakyReLU: 2-8                    [32, 16, 1, 1]            --\n",
       "├─Linear: 1-2                            [32, 16]                  272\n",
       "├─Linear: 1-3                            [32, 16]                  272\n",
       "├─Sequential: 1-4                        [32, 1, 127, 3]           --\n",
       "│    └─ConvTranspose2d: 2-9              [32, 256, 1, 3]           12,544\n",
       "│    └─LeakyReLU: 2-10                   [32, 256, 1, 3]           --\n",
       "│    └─ConvTranspose2d: 2-11             [32, 1024, 1, 3]          263,168\n",
       "│    └─LeakyReLU: 2-12                   [32, 1024, 1, 3]          --\n",
       "│    └─ConvTranspose2d: 2-13             [32, 4096, 1, 3]          4,198,400\n",
       "│    └─LeakyReLU: 2-14                   [32, 4096, 1, 3]          --\n",
       "│    └─ConvTranspose2d: 2-15             [32, 1, 127, 3]           520,193\n",
       "==========================================================================================\n",
       "Total params: 18,377,777\n",
       "Trainable params: 18,377,777\n",
       "Non-trainable params: 0\n",
       "Total mult-adds (G): 8.16\n",
       "==========================================================================================\n",
       "Input size (MB): 0.05\n",
       "Forward/backward pass size (MB): 14.66\n",
       "Params size (MB): 73.51\n",
       "Estimated Total Size (MB): 88.22\n",
       "=========================================================================================="
      ]
     },
     "execution_count": 7,
     "metadata": {},
     "output_type": "execute_result"
    }
   ],
   "source": [
    "model = VAE().to(device)\n",
    "summary(model, input_size=(32, 1, 127, 3))"
   ]
  },
  {
   "cell_type": "code",
   "execution_count": 8,
   "metadata": {},
   "outputs": [],
   "source": [
    "def training_batch(data, model, optimizer):\n",
    "    model.train()\n",
    "    data = data.to(device)\n",
    "    recon, mu, logvar = model(data)\n",
    "    loss = loss_function(recon, data, mu, logvar)\n",
    "    optimizer.zero_grad()\n",
    "    loss.backward()\n",
    "    optimizer.step()\n",
    "    return loss"
   ]
  },
  {
   "cell_type": "code",
   "execution_count": 9,
   "metadata": {},
   "outputs": [],
   "source": [
    "def loss_function(recon, x, mu, logvar):\n",
    "    RECON = F.mse_loss(recon, x, reduction='sum')\n",
    "    KLD = -0.5 * torch.sum(1 + logvar - mu.pow(2) - logvar.exp())\n",
    "    return RECON + KLD"
   ]
  },
  {
   "cell_type": "code",
   "execution_count": 10,
   "metadata": {},
   "outputs": [],
   "source": [
    "conv_vae = VAE().to(device)\n",
    "optimizer = optim.Adam(conv_vae.parameters(), lr=5e-5, weight_decay=1e-4)"
   ]
  },
  {
   "cell_type": "code",
   "execution_count": 11,
   "metadata": {},
   "outputs": [
    {
     "name": "stdout",
     "output_type": "stream",
     "text": [
      "Epoch:  10/250\t| Training loss: 107.5857 |   \n",
      "\n",
      "Epoch:  20/250\t| Training loss: 93.7779 |   \n",
      "\n",
      "Epoch:  30/250\t| Training loss: 86.5126 |   \n",
      "\n",
      "Epoch:  40/250\t| Training loss: 81.8668 |   \n",
      "\n",
      "Epoch:  50/250\t| Training loss: 78.1605 |   \n",
      "\n",
      "Epoch:  60/250\t| Training loss: 75.3294 |   \n",
      "\n",
      "Epoch:  70/250\t| Training loss: 74.2469 |   \n",
      "\n",
      "Epoch:  80/250\t| Training loss: 71.8733 |   \n",
      "\n",
      "Epoch:  90/250\t| Training loss: 70.6219 |   \n",
      "\n",
      "Epoch: 100/250\t| Training loss: 69.4130 |   \n",
      "\n",
      "Epoch: 110/250\t| Training loss: 68.3088 |   \n",
      "\n",
      "Epoch: 120/250\t| Training loss: 67.5836 |   \n",
      "\n",
      "Epoch: 130/250\t| Training loss: 66.5779 |   \n",
      "\n",
      "Epoch: 140/250\t| Training loss: 65.6736 |   \n",
      "\n",
      "Epoch: 150/250\t| Training loss: 65.3995 |   \n",
      "\n",
      "Epoch: 160/250\t| Training loss: 65.1109 |   \n",
      "\n",
      "Epoch: 170/250\t| Training loss: 64.1304 |   \n",
      "\n",
      "Epoch: 180/250\t| Training loss: 63.4133 |   \n",
      "\n",
      "Epoch: 190/250\t| Training loss: 63.2735 |   \n",
      "\n",
      "Epoch: 200/250\t| Training loss: 62.9528 |   \n",
      "\n",
      "Epoch: 210/250\t| Training loss: 62.0588 |   \n",
      "\n",
      "Epoch: 220/250\t| Training loss: 61.8717 |   \n",
      "\n",
      "Epoch: 230/250\t| Training loss: 61.3784 |   \n",
      "\n",
      "Epoch: 240/250\t| Training loss: 61.2752 |   \n",
      "\n",
      "Epoch: 250/250\t| Training loss: 60.6688 |   \n",
      "\n"
     ]
    }
   ],
   "source": [
    "np.random.seed(42)\n",
    "torch.manual_seed(42)\n",
    "torch.cuda.manual_seed(42)\n",
    "\n",
    "n_epochs = 250\n",
    "\n",
    "training_loss = []\n",
    "\n",
    "for epoch in range(n_epochs):\n",
    "    training_losses = []\n",
    "    \n",
    "    for data in traj_dl:\n",
    "        data = data.reshape(-1,1,127,3).to(device)\n",
    "        trng_batch_loss = training_batch(data, conv_vae, optimizer)\n",
    "        training_losses.append(trng_batch_loss.item())\n",
    "    training_per_epoch_loss = np.array(training_losses).mean()\n",
    "    \n",
    "    training_loss.append(training_per_epoch_loss)\n",
    "    \n",
    "    if (epoch+1) % 10==0:\n",
    "        print(f'Epoch: {epoch+1:>3d}/{n_epochs}\\t| Training loss: {training_per_epoch_loss:.4f} |   \\n')"
   ]
  },
  {
   "cell_type": "code",
   "execution_count": 12,
   "metadata": {},
   "outputs": [
    {
     "data": {
      "image/png": "[encoded data removed]",
      "text/plain": [
       "<Figure size 800x500 with 1 Axes>"
      ]
     },
     "metadata": {},
     "output_type": "display_data"
    }
   ],
   "source": [
    "plt.figure(figsize=(8, 5))\n",
    "\n",
    "plt.plot(training_loss, 'g-', linewidth=2, label='Training loss')\n",
    "# plt.plot(test_loss, 'c--', linewidth=2, label='Test loss')\n",
    "plt.title('Loss curve', fontsize=23)\n",
    "plt.xlabel('No. of epochs', fontsize=17)\n",
    "plt.ylabel('Losses', fontsize=17)\n",
    "plt.xticks(fontsize=14)\n",
    "plt.yticks(fontsize=14)\n",
    "plt.legend(fontsize=14);"
   ]
  },
  {
   "cell_type": "code",
   "execution_count": 13,
   "metadata": {},
   "outputs": [
    {
     "data": {
      "text/plain": [
       "<matplotlib.image.AxesImage at 0x151a00160340>"
      ]
     },
     "execution_count": 13,
     "metadata": {},
     "output_type": "execute_result"
    },
    {
     "data": {
      "image/png": "[encoded data removed]",
      "text/plain": [
       "<Figure size 1000x1000 with 1 Axes>"
      ]
     },
     "metadata": {},
     "output_type": "display_data"
    }
   ],
   "source": [
    "fig, ax = plt.subplots(figsize=(10,10))\n",
    "data = np.concatenate([traj[0].reshape(-1,3).T,conv_vae(torch.tensor(traj[0]).to(device).reshape(-1,1,127,3))[0].to('cpu').detach().numpy().reshape(-1,3).T])\n",
    "ax.imshow(data.T)\n",
    "# ax[0].imshow(traj[0].reshape(-1,3))\n",
    "# ax[1].imshow(conv_vae(torch.tensor(traj[0]).to(device).reshape(-1,1,127,3))[0].to('cpu').detach().numpy().reshape(-1,3))"
   ]
  },
  {
   "cell_type": "code",
   "execution_count": 14,
   "metadata": {},
   "outputs": [
    {
     "data": {
      "text/plain": [
       "array([-0.72329926, -0.60518116,  0.18986614], dtype=float32)"
      ]
     },
     "execution_count": 14,
     "metadata": {},
     "output_type": "execute_result"
    }
   ],
   "source": [
    "traj[0][-1]"
   ]
  },
  {
   "cell_type": "code",
   "execution_count": 15,
   "metadata": {},
   "outputs": [
    {
     "data": {
      "text/plain": [
       "array([-0.76017624, -0.65278137,  0.09903026], dtype=float32)"
      ]
     },
     "execution_count": 15,
     "metadata": {},
     "output_type": "execute_result"
    }
   ],
   "source": [
    "conv_vae(torch.tensor(traj[0]).to(device).reshape(-1,1,127,3))[0].to('cpu').detach().numpy().reshape(-1,3)[-1]"
   ]
  },
  {
   "cell_type": "code",
   "execution_count": null,
   "metadata": {},
   "outputs": [],
   "source": []
  }
 ],
 "metadata": {
  "kernelspec": {
   "display_name": "NamiTorch ML",
   "language": "python",
   "name": "myenv"
  },
  "language_info": {
   "codemirror_mode": {
    "name": "ipython",
    "version": 3
   },
   "file_extension": ".py",
   "mimetype": "text/x-python",
   "name": "python",
   "nbconvert_exporter": "python",
   "pygments_lexer": "ipython3",
   "version": "3.10.12"
  }
 },
 "nbformat": 4,
 "nbformat_minor": 4
}
